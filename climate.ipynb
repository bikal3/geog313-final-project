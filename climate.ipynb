{
 "cells": [
  {
   "cell_type": "code",
   "execution_count": null,
   "metadata": {},
   "outputs": [],
   "source": [
    "import requests\n",
    "import pandas as pd\n",
    "\n",
    "def get_climate_data(api_token, state, start_date, end_date, variables):\n",
    "    \"\"\"\n",
    "    Fetch climate data from NOAA API and calculate mean, max, min for specified variables.\n",
    "\n",
    "    Args:\n",
    "        api_token (str): NOAA API token.\n",
    "        state (str): State name or bounding box in the format [min_lon, min_lat, max_lon, max_lat].\n",
    "        start_date (str): Start date in YYYY-MM-DD format.\n",
    "        end_date (str): End date in YYYY-MM-DD format.\n",
    "        variables (list): List of variables to include (e.g., 'TMAX', 'TMIN', 'PRCP').\n",
    "\n",
    "    Returns:\n",
    "        dict: Dictionary containing mean, max, min for each variable.\n",
    "    \"\"\"\n",
    "    base_url = \"https://www.ncdc.noaa.gov/cdo-web/api/v2/data\"\n",
    "    headers = {\"token\": api_token}\n",
    "    params = {\n",
    "        \"datasetid\": \"GHCND\",  # Global Historical Climatology Network Daily\n",
    "        \"locationid\": f\"FIPS:{state}\",  # FIPS code for the state\n",
    "        \"startdate\": start_date,\n",
    "        \"enddate\": end_date,\n",
    "        # \"datatypeid\": \",\".join(variables),\n",
    "        \"units\": \"metric\",\n",
    "        \"limit\": 1000,  # Max number of results per request\n",
    "    }\n",
    "\n",
    "    response = requests.get(base_url, headers=headers, params=params)\n",
    "    \n",
    "    if response.status_code != 200:\n",
    "        raise Exception(f\"Error fetching data: {response.status_code} {response.text}\")\n",
    "    \n",
    "    data = response.json().get(\"results\", [])\n",
    "    \n",
    "    if not data:\n",
    "        return \"No data available for the specified parameters.\"\n",
    "    \n",
    "    # Convert data to a DataFrame\n",
    "    df = pd.DataFrame(data)\n",
    "    \n",
    "    # Ensure 'value' column is numeric\n",
    "    df['value'] = pd.to_numeric(df['value'], errors='coerce')\n",
    "    \n",
    "    # Calculate statistics\n",
    "    results = {}\n",
    "    for variable in variables:\n",
    "        var_data = df[df['datatype'] == variable]\n",
    "        results[variable] = {\n",
    "            \"mean\": var_data['value'].mean(),\n",
    "            \"max\": var_data['value'].max(),\n",
    "            \"min\": var_data['value'].min()\n",
    "        }\n",
    "    \n",
    "    return results"
   ]
  },
  {
   "cell_type": "code",
   "execution_count": null,
   "metadata": {},
   "outputs": [
    {
     "name": "stdout",
     "output_type": "stream",
     "text": [
      "\n"
     ]
    }
   ],
   "source": [
    "import os\n",
    "from dotenv import load_dotenv\n",
    "load_dotenv()\n",
    "api_token = os.getenv(\"api_token\")\n",
    "\n",
    "state = \"25\"  # FIPS code for Massachusetts\n",
    "start_date = \"2023-01-01\"\n",
    "end_date = \"2023-12-31\"\n",
    "variables = [\"TMAX\", \"TMIN\", \"PRCP\"]  # Example variables: max temp, min temp, precipitation\n",
    "\n",
    "climate_stats = get_climate_data(api_token, state, start_date, end_date, variables)"
   ]
  }
 ],
 "metadata": {
  "kernelspec": {
   "display_name": "base",
   "language": "python",
   "name": "python3"
  },
  "language_info": {
   "codemirror_mode": {
    "name": "ipython",
    "version": 3
   },
   "file_extension": ".py",
   "mimetype": "text/x-python",
   "name": "python",
   "nbconvert_exporter": "python",
   "pygments_lexer": "ipython3",
   "version": "3.11.10"
  }
 },
 "nbformat": 4,
 "nbformat_minor": 2
}
