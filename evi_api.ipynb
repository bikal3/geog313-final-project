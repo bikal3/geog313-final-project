{
 "cells": [
  {
   "cell_type": "code",
   "execution_count": 6,
   "metadata": {},
   "outputs": [
    {
     "data": {
      "text/html": [
       "\n",
       "            <style>\n",
       "                .geemap-dark {\n",
       "                    --jp-widgets-color: white;\n",
       "                    --jp-widgets-label-color: white;\n",
       "                    --jp-ui-font-color1: white;\n",
       "                    --jp-layout-color2: #454545;\n",
       "                    background-color: #383838;\n",
       "                }\n",
       "\n",
       "                .geemap-dark .jupyter-button {\n",
       "                    --jp-layout-color3: #383838;\n",
       "                }\n",
       "\n",
       "                .geemap-colab {\n",
       "                    background-color: var(--colab-primary-surface-color, white);\n",
       "                }\n",
       "\n",
       "                .geemap-colab .jupyter-button {\n",
       "                    --jp-layout-color3: var(--colab-primary-surface-color, white);\n",
       "                }\n",
       "            </style>\n",
       "            "
      ],
      "text/plain": [
       "<IPython.core.display.HTML object>"
      ]
     },
     "metadata": {},
     "output_type": "display_data"
    }
   ],
   "source": [
    "import ee\n",
    "import geemap"
   ]
  },
  {
   "cell_type": "code",
   "execution_count": 7,
   "metadata": {},
   "outputs": [
    {
     "data": {
      "text/html": [
       "\n",
       "            <style>\n",
       "                .geemap-dark {\n",
       "                    --jp-widgets-color: white;\n",
       "                    --jp-widgets-label-color: white;\n",
       "                    --jp-ui-font-color1: white;\n",
       "                    --jp-layout-color2: #454545;\n",
       "                    background-color: #383838;\n",
       "                }\n",
       "\n",
       "                .geemap-dark .jupyter-button {\n",
       "                    --jp-layout-color3: #383838;\n",
       "                }\n",
       "\n",
       "                .geemap-colab {\n",
       "                    background-color: var(--colab-primary-surface-color, white);\n",
       "                }\n",
       "\n",
       "                .geemap-colab .jupyter-button {\n",
       "                    --jp-layout-color3: var(--colab-primary-surface-color, white);\n",
       "                }\n",
       "            </style>\n",
       "            "
      ],
      "text/plain": [
       "<IPython.core.display.HTML object>"
      ]
     },
     "metadata": {},
     "output_type": "display_data"
    }
   ],
   "source": [
    "# Initialize the Earth Engine API\n",
    "ee.Initialize()"
   ]
  },
  {
   "cell_type": "code",
   "execution_count": null,
   "metadata": {},
   "outputs": [
    {
     "data": {
      "text/html": [
       "\n",
       "            <style>\n",
       "                .geemap-dark {\n",
       "                    --jp-widgets-color: white;\n",
       "                    --jp-widgets-label-color: white;\n",
       "                    --jp-ui-font-color1: white;\n",
       "                    --jp-layout-color2: #454545;\n",
       "                    background-color: #383838;\n",
       "                }\n",
       "\n",
       "                .geemap-dark .jupyter-button {\n",
       "                    --jp-layout-color3: #383838;\n",
       "                }\n",
       "\n",
       "                .geemap-colab {\n",
       "                    background-color: var(--colab-primary-surface-color, white);\n",
       "                }\n",
       "\n",
       "                .geemap-colab .jupyter-button {\n",
       "                    --jp-layout-color3: var(--colab-primary-surface-color, white);\n",
       "                }\n",
       "            </style>\n",
       "            "
      ],
      "text/plain": [
       "<IPython.core.display.HTML object>"
      ]
     },
     "metadata": {},
     "output_type": "display_data"
    }
   ],
   "source": [
    "def generate_evi(bbox, start_date, end_date, cloud_cover=80):\n",
    "    \"\"\"\n",
    "    Generate an Enhanced Vegetation Index (EVI) for a given bbox and time period.\n",
    "\n",
    "    Parameters:\n",
    "        bbox (ee.Geometry): The bbox of interest.\n",
    "        start_date (str): Start date in 'YYYY-MM-DD' format.\n",
    "        end_date (str): End date in 'YYYY-MM-DD' format.\n",
    "        cloud_cover (int): Maximum cloud cover percentage (default: 80).\n",
    "\n",
    "    Returns:\n",
    "        ee.ImageCollection: Image collection with EVI and NDVI bands.\n",
    "    \"\"\"\n",
    "    # Load Landsat 8 SR dataset\n",
    "    landsat = ee.ImageCollection('LANDSAT/LC08/C02/T1_L2') \\\n",
    "        .filterBounds(bbox) \\\n",
    "        .filterDate(start_date, end_date) \\\n",
    "        .filterMetadata('CLOUD_COVER', 'less_than', cloud_cover)\n",
    "    \n",
    "    # Function to scale Landsat bands\n",
    "    def scaling_ls(img):\n",
    "        optical = img.select('SR_B.').multiply(0.0000275).add(-0.2)\n",
    "        thermal = img.select('ST_B.*').multiply(0.00341802).add(149.0)\n",
    "        return img.addBands(optical, None, True).addBands(thermal, None, True)\n",
    "    \n",
    "    # Function to mask clouds\n",
    "    def mask_clouds(img):\n",
    "        cloud_shadow_bit_mask = (1 << 4)\n",
    "        clouds_bit_mask = (1 << 3)\n",
    "        clouds_cirrus_bit_mask = (1 << 2)\n",
    "        clouds_dilated_bit_mask = (1 << 1)\n",
    "        qa = img.select('QA_PIXEL')\n",
    "        mask = qa.bitwiseAnd(cloud_shadow_bit_mask).eq(0) \\\n",
    "                .And(qa.bitwiseAnd(clouds_bit_mask).eq(0)) \\\n",
    "                .And(qa.bitwiseAnd(clouds_cirrus_bit_mask).eq(0)) \\\n",
    "                .And(qa.bitwiseAnd(clouds_dilated_bit_mask).eq(0))\n",
    "        return img.updateMask(mask)\n",
    "    \n",
    "    # Function to calculate NDVI and EVI\n",
    "    def calc_vis_ls(img):\n",
    "        ndvi = img.normalizedDifference(['SR_B5', 'SR_B4']).rename('ndvi')\n",
    "        evi = img.expression(\n",
    "            '2.5 * ((NIR - RED) / (NIR + 6 * RED - 7.5 * BLUE + 1))', {\n",
    "                'NIR': img.select('SR_B5'),\n",
    "                'RED': img.select('SR_B4'),\n",
    "                'BLUE': img.select('SR_B2')\n",
    "            }).rename('evi')\n",
    "        return img.addBands([ndvi, evi])\n",
    "    \n",
    "    # Apply the scaling, cloud masking, and VI calculation\n",
    "    processed = landsat.map(scaling_ls).map(mask_clouds).map(calc_vis_ls)\n",
    "    return processed"
   ]
  },
  {
   "cell_type": "code",
   "execution_count": 9,
   "metadata": {},
   "outputs": [
    {
     "data": {
      "text/html": [
       "\n",
       "            <style>\n",
       "                .geemap-dark {\n",
       "                    --jp-widgets-color: white;\n",
       "                    --jp-widgets-label-color: white;\n",
       "                    --jp-ui-font-color1: white;\n",
       "                    --jp-layout-color2: #454545;\n",
       "                    background-color: #383838;\n",
       "                }\n",
       "\n",
       "                .geemap-dark .jupyter-button {\n",
       "                    --jp-layout-color3: #383838;\n",
       "                }\n",
       "\n",
       "                .geemap-colab {\n",
       "                    background-color: var(--colab-primary-surface-color, white);\n",
       "                }\n",
       "\n",
       "                .geemap-colab .jupyter-button {\n",
       "                    --jp-layout-color3: var(--colab-primary-surface-color, white);\n",
       "                }\n",
       "            </style>\n",
       "            "
      ],
      "text/plain": [
       "<IPython.core.display.HTML object>"
      ]
     },
     "metadata": {},
     "output_type": "display_data"
    }
   ],
   "source": [
    "# Example usage\n",
    "california = ee.Geometry.Polygon([\n",
    "    [[-124.482003, 32.529521],\n",
    "     [-114.131211, 32.529521],\n",
    "     [-114.131211, 42.009518],\n",
    "     [-124.482003, 42.009518],\n",
    "     [-124.482003, 32.529521]]\n",
    "])\n"
   ]
  },
  {
   "cell_type": "code",
   "execution_count": 10,
   "metadata": {},
   "outputs": [
    {
     "data": {
      "text/html": [
       "\n",
       "            <style>\n",
       "                .geemap-dark {\n",
       "                    --jp-widgets-color: white;\n",
       "                    --jp-widgets-label-color: white;\n",
       "                    --jp-ui-font-color1: white;\n",
       "                    --jp-layout-color2: #454545;\n",
       "                    background-color: #383838;\n",
       "                }\n",
       "\n",
       "                .geemap-dark .jupyter-button {\n",
       "                    --jp-layout-color3: #383838;\n",
       "                }\n",
       "\n",
       "                .geemap-colab {\n",
       "                    background-color: var(--colab-primary-surface-color, white);\n",
       "                }\n",
       "\n",
       "                .geemap-colab .jupyter-button {\n",
       "                    --jp-layout-color3: var(--colab-primary-surface-color, white);\n",
       "                }\n",
       "            </style>\n",
       "            "
      ],
      "text/plain": [
       "<IPython.core.display.HTML object>"
      ]
     },
     "metadata": {},
     "output_type": "display_data"
    },
    {
     "data": {
      "application/vnd.jupyter.widget-view+json": {
       "model_id": "ab30fc9279244482a52c3a376954dc5f",
       "version_major": 2,
       "version_minor": 0
      },
      "text/plain": [
       "Map(center=[37.28134182218032, -119.306607], controls=(WidgetControl(options=['position', 'transparent_bg'], w…"
      ]
     },
     "execution_count": 10,
     "metadata": {},
     "output_type": "execute_result"
    }
   ],
   "source": [
    "evi_collection = generate_evi(bbox=california, start_date='2021-07-01', end_date='2021-07-31')\n",
    "\n",
    "# Visualize EVI on a map\n",
    "Map = geemap.Map()\n",
    "Map.centerObject(california, 6)\n",
    "evi_vis = {'min': 0, 'max': 1, 'palette': ['white', 'blue', 'green']}\n",
    "ndvi_vis = {'min': 0, 'max': 1, 'palette': ['white', 'yellow', 'green']}\n",
    "\n",
    "Map.addLayer(evi_collection.select('evi').median(), evi_vis, 'EVI')\n",
    "Map.addLayer(evi_collection.select('ndvi').median(), ndvi_vis, 'NDVI')\n",
    "\n",
    "Map"
   ]
  }
 ],
 "metadata": {
  "kernelspec": {
   "display_name": "envburn",
   "language": "python",
   "name": "python3"
  },
  "language_info": {
   "codemirror_mode": {
    "name": "ipython",
    "version": 3
   },
   "file_extension": ".py",
   "mimetype": "text/x-python",
   "name": "python",
   "nbconvert_exporter": "python",
   "pygments_lexer": "ipython3",
   "version": "3.12.8"
  }
 },
 "nbformat": 4,
 "nbformat_minor": 2
}
