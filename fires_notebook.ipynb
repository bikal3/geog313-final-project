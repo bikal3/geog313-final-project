{
 "cells": [
  {
   "cell_type": "code",
   "execution_count": null,
   "metadata": {},
   "outputs": [],
   "source": [
    "import ee\n",
    "import geemap\n"
   ]
  },
  {
   "cell_type": "code",
   "execution_count": null,
   "metadata": {},
   "outputs": [],
   "source": [
    "# EE authentication\n",
    "ee.Authenticate()\n",
    "# Initialize the library.\n",
    "ee.Initialize(project='ee-milagrosbecerra245')"
   ]
  },
  {
   "cell_type": "code",
   "execution_count": null,
   "metadata": {},
   "outputs": [],
   "source": [
    "# Load the dataset\n",
    "burned_area = ee.FeatureCollection(\"USFS/GTAC/MTBS/burned_area_boundaries/v1\")\n",
    "landtype = ee.ImageCollection(\"LANDFIRE/Vegetation/EVC/v1_4_0\")\n",
    "landcover = ee.ImageCollection(\"projects/sat-io/open-datasets/landcover/ESRI_Global-LULC_10m_TS\");\n",
    "burned_severity = ee.ImageCollection(\"USFS/GTAC/MTBS/annual_burn_severity_mosaics/v1\")\n",
    "\n",
    "# Create a Map object\n",
    "Map = geemap.Map(center=[37.5, -120], zoom=6)  # Adjust center and zoom for your area of interest\n",
    "\n",
    "# Define visualization parameters\n",
    "vis_params = {\n",
    "    'color': 'red'  # Color for the burned area boundaries\n",
    "}\n",
    "\n",
    "# Add the dataset to the map\n",
    "Map.addLayer(burned_area, vis_params, \"Burned Area Boundaries\")\n",
    "\n",
    "# Display the map\n",
    "Map.addLayerControl()  # Add a layer control for toggling visibility\n",
    "Map"
   ]
  }
 ],
 "metadata": {
  "kernelspec": {
   "display_name": "base",
   "language": "python",
   "name": "python3"
  },
  "language_info": {
   "name": "python",
   "version": "3.11.10"
  }
 },
 "nbformat": 4,
 "nbformat_minor": 2
}
