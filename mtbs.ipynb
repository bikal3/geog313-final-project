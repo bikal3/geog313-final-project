{
 "cells": [
  {
   "cell_type": "code",
   "execution_count": 67,
   "metadata": {},
   "outputs": [
    {
     "data": {
      "text/html": [
       "\n",
       "            <style>\n",
       "                .geemap-dark {\n",
       "                    --jp-widgets-color: white;\n",
       "                    --jp-widgets-label-color: white;\n",
       "                    --jp-ui-font-color1: white;\n",
       "                    --jp-layout-color2: #454545;\n",
       "                    background-color: #383838;\n",
       "                }\n",
       "\n",
       "                .geemap-dark .jupyter-button {\n",
       "                    --jp-layout-color3: #383838;\n",
       "                }\n",
       "\n",
       "                .geemap-colab {\n",
       "                    background-color: var(--colab-primary-surface-color, white);\n",
       "                }\n",
       "\n",
       "                .geemap-colab .jupyter-button {\n",
       "                    --jp-layout-color3: var(--colab-primary-surface-color, white);\n",
       "                }\n",
       "            </style>\n",
       "            "
      ],
      "text/plain": [
       "<IPython.core.display.HTML object>"
      ]
     },
     "metadata": {},
     "output_type": "display_data"
    }
   ],
   "source": [
    "import ee\n",
    "import geemap\n",
    "import pandas as pd"
   ]
  },
  {
   "cell_type": "code",
   "execution_count": null,
   "metadata": {},
   "outputs": [
    {
     "data": {
      "text/html": [
       "\n",
       "            <style>\n",
       "                .geemap-dark {\n",
       "                    --jp-widgets-color: white;\n",
       "                    --jp-widgets-label-color: white;\n",
       "                    --jp-ui-font-color1: white;\n",
       "                    --jp-layout-color2: #454545;\n",
       "                    background-color: #383838;\n",
       "                }\n",
       "\n",
       "                .geemap-dark .jupyter-button {\n",
       "                    --jp-layout-color3: #383838;\n",
       "                }\n",
       "\n",
       "                .geemap-colab {\n",
       "                    background-color: var(--colab-primary-surface-color, white);\n",
       "                }\n",
       "\n",
       "                .geemap-colab .jupyter-button {\n",
       "                    --jp-layout-color3: var(--colab-primary-surface-color, white);\n",
       "                }\n",
       "            </style>\n",
       "            "
      ],
      "text/plain": [
       "<IPython.core.display.HTML object>"
      ]
     },
     "metadata": {},
     "output_type": "display_data"
    }
   ],
   "source": [
    "def initialize_gee():\n",
    "    \"\"\"\n",
    "    Authenticate and initialize the Google Earth Engine API.\n",
    "    \"\"\"\n",
    "    try:\n",
    "        ee.Initialize()\n",
    "        print(\"Google Earth Engine initialized successfully.\")\n",
    "    except Exception as e:\n",
    "        print(\"Authentication required. Proceeding to authenticate...\")\n",
    "        ee.Authenticate()\n",
    "        ee.Initialize()\n",
    "        print(\"Google Earth Engine authenticated and initialized successfully.\")"
   ]
  },
  {
   "cell_type": "code",
   "execution_count": 37,
   "metadata": {},
   "outputs": [
    {
     "data": {
      "text/html": [
       "\n",
       "            <style>\n",
       "                .geemap-dark {\n",
       "                    --jp-widgets-color: white;\n",
       "                    --jp-widgets-label-color: white;\n",
       "                    --jp-ui-font-color1: white;\n",
       "                    --jp-layout-color2: #454545;\n",
       "                    background-color: #383838;\n",
       "                }\n",
       "\n",
       "                .geemap-dark .jupyter-button {\n",
       "                    --jp-layout-color3: #383838;\n",
       "                }\n",
       "\n",
       "                .geemap-colab {\n",
       "                    background-color: var(--colab-primary-surface-color, white);\n",
       "                }\n",
       "\n",
       "                .geemap-colab .jupyter-button {\n",
       "                    --jp-layout-color3: var(--colab-primary-surface-color, white);\n",
       "                }\n",
       "            </style>\n",
       "            "
      ],
      "text/plain": [
       "<IPython.core.display.HTML object>"
      ]
     },
     "metadata": {},
     "output_type": "display_data"
    },
    {
     "name": "stdout",
     "output_type": "stream",
     "text": [
      "Google Earth Engine initialized successfully.\n"
     ]
    }
   ],
   "source": [
    "# Call the function to initialize GEE\n",
    "initialize_gee()"
   ]
  },
  {
   "cell_type": "code",
   "execution_count": 40,
   "metadata": {},
   "outputs": [
    {
     "data": {
      "text/html": [
       "\n",
       "            <style>\n",
       "                .geemap-dark {\n",
       "                    --jp-widgets-color: white;\n",
       "                    --jp-widgets-label-color: white;\n",
       "                    --jp-ui-font-color1: white;\n",
       "                    --jp-layout-color2: #454545;\n",
       "                    background-color: #383838;\n",
       "                }\n",
       "\n",
       "                .geemap-dark .jupyter-button {\n",
       "                    --jp-layout-color3: #383838;\n",
       "                }\n",
       "\n",
       "                .geemap-colab {\n",
       "                    background-color: var(--colab-primary-surface-color, white);\n",
       "                }\n",
       "\n",
       "                .geemap-colab .jupyter-button {\n",
       "                    --jp-layout-color3: var(--colab-primary-surface-color, white);\n",
       "                }\n",
       "            </style>\n",
       "            "
      ],
      "text/plain": [
       "<IPython.core.display.HTML object>"
      ]
     },
     "metadata": {},
     "output_type": "display_data"
    }
   ],
   "source": [
    "\n",
    "def display_mtbs_burn_severity(start_date, end_date, bbox):\n",
    "    \"\"\"\n",
    "    Display the MTBS burn severity map within a specified date range and bounding box.\n",
    "\n",
    "    Parameters:\n",
    "    - start_date (str): The start date in 'YYYY-MM-DD' format.\n",
    "    - end_date (str): The end date in 'YYYY-MM-DD' format.\n",
    "    - bbox (list): Bounding box as [min_lon, min_lat, max_lon, max_lat].\n",
    "    \"\"\"\n",
    "\n",
    "    # Load the MTBS burn severity dataset\n",
    "    mtbs = ee.ImageCollection(\"USFS/GTAC/MTBS/annual_burn_severity_mosaics/v1\")\n",
    "\n",
    "    # Filter the dataset by the specified date range\n",
    "    mtbs_filtered = mtbs.filterDate(start_date, end_date)\n",
    "\n",
    "    # Define the AOI using the provided bbox\n",
    "    aoi = ee.Geometry.Rectangle(bbox)\n",
    "\n",
    "    # Define visualization parameters\n",
    "    vis_params = {\n",
    "        'bands': ['Severity'],\n",
    "        'min': 1,\n",
    "        'max': 4,\n",
    "        'palette': ['white', 'green', 'yellow', 'red']  # Colors for unburned, low, moderate, and high severity\n",
    "    }\n",
    "\n",
    "    # Create a map centered on the AOI\n",
    "    center_lat = (bbox[1] + bbox[3]) / 2\n",
    "    center_lon = (bbox[0] + bbox[2]) / 2\n",
    "    map_ = geemap.Map(center=[center_lat, center_lon], zoom=6)\n",
    "\n",
    "    # Add the filtered burn severity layer to the map\n",
    "    map_.addLayer(mtbs_filtered.median().clip(aoi), vis_params, f\"MTBS Burn Severity {start_date} to {end_date}\")\n",
    "\n",
    "    # Add the AOI boundary to the map\n",
    "    map_.addLayer(aoi, {'color': 'blue'}, \"AOI\")\n",
    "\n",
    "    # Define legend details based on the class table\n",
    "    legend_dict = {\n",
    "        'Background': '#000000',\n",
    "        'Unburned to Low': '#006400',\n",
    "        'Low': '#7fffd4',\n",
    "        'Moderate': '#ffff00',\n",
    "        'High': '#ff0000',\n",
    "        'Increased Greenness': '#7fff00',\n",
    "        'Non-Mapping Area': '#ffffff'\n",
    "    }\n",
    "\n",
    "    # Add the legend to the map\n",
    "    map_.add_legend(title=\"MTBS Burn Severity Legend\", legend_dict=legend_dict)\n",
    "\n",
    "    # Display the map\n",
    "    return map_\n"
   ]
  },
  {
   "cell_type": "code",
   "execution_count": null,
   "metadata": {},
   "outputs": [
    {
     "data": {
      "text/html": [
       "\n",
       "            <style>\n",
       "                .geemap-dark {\n",
       "                    --jp-widgets-color: white;\n",
       "                    --jp-widgets-label-color: white;\n",
       "                    --jp-ui-font-color1: white;\n",
       "                    --jp-layout-color2: #454545;\n",
       "                    background-color: #383838;\n",
       "                }\n",
       "\n",
       "                .geemap-dark .jupyter-button {\n",
       "                    --jp-layout-color3: #383838;\n",
       "                }\n",
       "\n",
       "                .geemap-colab {\n",
       "                    background-color: var(--colab-primary-surface-color, white);\n",
       "                }\n",
       "\n",
       "                .geemap-colab .jupyter-button {\n",
       "                    --jp-layout-color3: var(--colab-primary-surface-color, white);\n",
       "                }\n",
       "            </style>\n",
       "            "
      ],
      "text/plain": [
       "<IPython.core.display.HTML object>"
      ]
     },
     "metadata": {},
     "output_type": "display_data"
    },
    {
     "data": {
      "application/vnd.jupyter.widget-view+json": {
       "model_id": "f8a84ef2550843eb8f9f7ac0815fcdc0",
       "version_major": 2,
       "version_minor": 0
      },
      "text/plain": [
       "Map(center=[37.25, -119.25], controls=(WidgetControl(options=['position', 'transparent_bg'], widget=SearchData…"
      ]
     },
     "execution_count": 41,
     "metadata": {},
     "output_type": "execute_result"
    }
   ],
   "source": [
    "\n",
    "# Example usage of the function\n",
    "start_date = '2016-01-01'\n",
    "end_date = '2023-12-31'\n",
    "bbox = [-124.4, 32.5, -114.1, 42.0]  # Bounding box for California\n",
    "\n",
    "# Call the function and display the map\n",
    "display_mtbs_burn_severity(start_date, end_date, bbox)"
   ]
  },
  {
   "cell_type": "code",
   "execution_count": 58,
   "metadata": {},
   "outputs": [
    {
     "data": {
      "text/html": [
       "\n",
       "            <style>\n",
       "                .geemap-dark {\n",
       "                    --jp-widgets-color: white;\n",
       "                    --jp-widgets-label-color: white;\n",
       "                    --jp-ui-font-color1: white;\n",
       "                    --jp-layout-color2: #454545;\n",
       "                    background-color: #383838;\n",
       "                }\n",
       "\n",
       "                .geemap-dark .jupyter-button {\n",
       "                    --jp-layout-color3: #383838;\n",
       "                }\n",
       "\n",
       "                .geemap-colab {\n",
       "                    background-color: var(--colab-primary-surface-color, white);\n",
       "                }\n",
       "\n",
       "                .geemap-colab .jupyter-button {\n",
       "                    --jp-layout-color3: var(--colab-primary-surface-color, white);\n",
       "                }\n",
       "            </style>\n",
       "            "
      ],
      "text/plain": [
       "<IPython.core.display.HTML object>"
      ]
     },
     "metadata": {},
     "output_type": "display_data"
    }
   ],
   "source": [
    "def display_mtbs_boundaries(start_date, end_date, bbox):\n",
    "    \"\"\"\n",
    "    Display the MTBS burned area boundaries within a specified date range and bounding box.\n",
    "\n",
    "    Parameters:\n",
    "    - start_date (str): The start date in 'YYYY-MM-DD' format.\n",
    "    - end_date (str): The end date in 'YYYY-MM-DD' format.\n",
    "    - bbox (list): Bounding box as [min_lon, min_lat, max_lon, max_lat].\n",
    "    \"\"\"\n",
    "\n",
    "    # Load the MTBS burned area boundaries dataset\n",
    "    mtbs_boundaries = ee.FeatureCollection('USFS/GTAC/MTBS/burned_area_boundaries/v1')\n",
    "\n",
    "    # Define the AOI using the provided bbox\n",
    "    aoi = ee.Geometry.Rectangle(bbox)\n",
    "\n",
    "    # Filter the dataset by the specified date range and AOI\n",
    "    mtbs_boundaries_filtered = (\n",
    "        mtbs_boundaries\n",
    "        .filterBounds(aoi)\n",
    "        .filterDate(start_date, end_date)\n",
    "\n",
    "    )\n",
    "\n",
    "    # Visualization parameters\n",
    "    vis_params = {\n",
    "        'fillColor': '#ff8a50',  # Fill color\n",
    "        'color': '#ff5722',      # Outline color\n",
    "        'width': 1.0             # Outline width\n",
    "    }\n",
    "\n",
    "    # Create a map centered on the AOI\n",
    "    center_lat = (bbox[1] + bbox[3]) / 2\n",
    "    center_lon = (bbox[0] + bbox[2]) / 2\n",
    "    map_ = geemap.Map(center=[center_lat, center_lon], zoom=6)\n",
    "\n",
    "    # Add the filtered burned area boundaries layer to the map\n",
    "    map_.addLayer(mtbs_boundaries_filtered, vis_params, f\"MTBS Burned Area Boundaries {start_date} to {end_date}\")\n",
    "\n",
    "    # Add the AOI boundary to the map for reference\n",
    "    map_.addLayer(aoi, {'color': 'blue'}, 'AOI Boundary')\n",
    "\n",
    "    # Define legend details\n",
    "    legend_dict = {\n",
    "        'Burned Area': '#ff8a50',\n",
    "        'Boundary Outline': '#ff5722'\n",
    "    }\n",
    "\n",
    "    # Add the legend to the map\n",
    "    map_.add_legend(title=\"MTBS Burned Area Boundaries Legend\", legend_dict=legend_dict)\n",
    "\n",
    "    # Display the map\n",
    "    return map_\n"
   ]
  },
  {
   "cell_type": "code",
   "execution_count": 59,
   "metadata": {},
   "outputs": [
    {
     "data": {
      "text/html": [
       "\n",
       "            <style>\n",
       "                .geemap-dark {\n",
       "                    --jp-widgets-color: white;\n",
       "                    --jp-widgets-label-color: white;\n",
       "                    --jp-ui-font-color1: white;\n",
       "                    --jp-layout-color2: #454545;\n",
       "                    background-color: #383838;\n",
       "                }\n",
       "\n",
       "                .geemap-dark .jupyter-button {\n",
       "                    --jp-layout-color3: #383838;\n",
       "                }\n",
       "\n",
       "                .geemap-colab {\n",
       "                    background-color: var(--colab-primary-surface-color, white);\n",
       "                }\n",
       "\n",
       "                .geemap-colab .jupyter-button {\n",
       "                    --jp-layout-color3: var(--colab-primary-surface-color, white);\n",
       "                }\n",
       "            </style>\n",
       "            "
      ],
      "text/plain": [
       "<IPython.core.display.HTML object>"
      ]
     },
     "metadata": {},
     "output_type": "display_data"
    },
    {
     "data": {
      "application/vnd.jupyter.widget-view+json": {
       "model_id": "56b14b197d33469d9f1fc6a86b5eedb5",
       "version_major": 2,
       "version_minor": 0
      },
      "text/plain": [
       "Map(center=[37.25, -119.25], controls=(WidgetControl(options=['position', 'transparent_bg'], widget=SearchData…"
      ]
     },
     "execution_count": 59,
     "metadata": {},
     "output_type": "execute_result"
    }
   ],
   "source": [
    "\n",
    "# Example usage of the function\n",
    "start_date = '2016-01-01'\n",
    "end_date = '2021-12-31'\n",
    "bbox = [-124.4, 32.5, -114.1, 42.0]  # Bounding box for California\n",
    "\n",
    "# Call the function and display the map\n",
    "display_mtbs_boundaries(start_date, end_date, bbox)"
   ]
  },
  {
   "cell_type": "code",
   "execution_count": 62,
   "metadata": {},
   "outputs": [
    {
     "data": {
      "text/html": [
       "\n",
       "            <style>\n",
       "                .geemap-dark {\n",
       "                    --jp-widgets-color: white;\n",
       "                    --jp-widgets-label-color: white;\n",
       "                    --jp-ui-font-color1: white;\n",
       "                    --jp-layout-color2: #454545;\n",
       "                    background-color: #383838;\n",
       "                }\n",
       "\n",
       "                .geemap-dark .jupyter-button {\n",
       "                    --jp-layout-color3: #383838;\n",
       "                }\n",
       "\n",
       "                .geemap-colab {\n",
       "                    background-color: var(--colab-primary-surface-color, white);\n",
       "                }\n",
       "\n",
       "                .geemap-colab .jupyter-button {\n",
       "                    --jp-layout-color3: var(--colab-primary-surface-color, white);\n",
       "                }\n",
       "            </style>\n",
       "            "
      ],
      "text/plain": [
       "<IPython.core.display.HTML object>"
      ]
     },
     "metadata": {},
     "output_type": "display_data"
    }
   ],
   "source": [
    "def display_mtbs_boundaries(bbox, start_date,end_date):\n",
    "    \"\"\"\n",
    "    Display the MTBS burned area boundaries within a specified bounding box and date range.\n",
    "\n",
    "    Parameters:\n",
    "    - bbox (list): Bounding box as [min_lon, min_lat, max_lon, max_lat].\n",
    "    - start_date (str): The start date in 'YYYY-MM-DD' format (default is '2016-01-01').\n",
    "    - end_date (str): The end date in 'YYYY-MM-DD' format (default is '2021-12-31').\n",
    "    \"\"\"\n",
    "\n",
    "    # Load the MTBS burned area boundaries dataset\n",
    "    mtbs_boundaries = ee.FeatureCollection('USFS/GTAC/MTBS/burned_area_boundaries/v1')\n",
    "\n",
    "    # Define the AOI using the provided bbox\n",
    "    aoi = ee.Geometry.Rectangle(bbox)\n",
    "\n",
    "    # Filter the dataset by AOI\n",
    "    mtbs_boundaries_filtered = mtbs_boundaries.filterBounds(aoi)\n",
    "\n",
    "    # Visualization parameters\n",
    "    vis_params = {\n",
    "        'fillColor': '#ff8a50',  # Fill color\n",
    "        'color': '#ff5722',      # Outline color\n",
    "        'width': 1.0             # Outline width\n",
    "    }\n",
    "\n",
    "    # Create a map centered on the AOI\n",
    "    center_lat = (bbox[1] + bbox[3]) / 2\n",
    "    center_lon = (bbox[0] + bbox[2]) / 2\n",
    "    map_ = geemap.Map(center=[center_lat, center_lon], zoom=6)\n",
    "\n",
    "    # Add the filtered burned area boundaries layer to the map\n",
    "    map_.addLayer(mtbs_boundaries_filtered, vis_params, f\"MTBS Burned Area Boundaries ({start_date} to {end_date})\")\n",
    "\n",
    "    # Add the AOI boundary to the map for reference\n",
    "    map_.addLayer(aoi, {'color': 'blue'}, 'AOI Boundary')\n",
    "\n",
    "    # Display the map\n",
    "    return map_\n",
    "\n"
   ]
  },
  {
   "cell_type": "code",
   "execution_count": 64,
   "metadata": {},
   "outputs": [
    {
     "data": {
      "text/html": [
       "\n",
       "            <style>\n",
       "                .geemap-dark {\n",
       "                    --jp-widgets-color: white;\n",
       "                    --jp-widgets-label-color: white;\n",
       "                    --jp-ui-font-color1: white;\n",
       "                    --jp-layout-color2: #454545;\n",
       "                    background-color: #383838;\n",
       "                }\n",
       "\n",
       "                .geemap-dark .jupyter-button {\n",
       "                    --jp-layout-color3: #383838;\n",
       "                }\n",
       "\n",
       "                .geemap-colab {\n",
       "                    background-color: var(--colab-primary-surface-color, white);\n",
       "                }\n",
       "\n",
       "                .geemap-colab .jupyter-button {\n",
       "                    --jp-layout-color3: var(--colab-primary-surface-color, white);\n",
       "                }\n",
       "            </style>\n",
       "            "
      ],
      "text/plain": [
       "<IPython.core.display.HTML object>"
      ]
     },
     "metadata": {},
     "output_type": "display_data"
    },
    {
     "data": {
      "application/vnd.jupyter.widget-view+json": {
       "model_id": "a70d9ae654d54259a603ea1b3134c295",
       "version_major": 2,
       "version_minor": 0
      },
      "text/plain": [
       "Map(center=[37.25, -119.25], controls=(WidgetControl(options=['position', 'transparent_bg'], widget=SearchData…"
      ]
     },
     "execution_count": 64,
     "metadata": {},
     "output_type": "execute_result"
    }
   ],
   "source": [
    "# Example usage of the function\n",
    "bbox = [-124.4, 32.5, -114.1, 42.0]  # Bounding box for California\n",
    "start_date='2016-01-01'\n",
    "end_date='2021-12-31'\n",
    "\n",
    "# Call the function and display the map\n",
    "display_mtbs_boundaries(bbox,start_date,end_date)"
   ]
  },
  {
   "cell_type": "code",
   "execution_count": 65,
   "metadata": {},
   "outputs": [
    {
     "data": {
      "text/html": [
       "\n",
       "            <style>\n",
       "                .geemap-dark {\n",
       "                    --jp-widgets-color: white;\n",
       "                    --jp-widgets-label-color: white;\n",
       "                    --jp-ui-font-color1: white;\n",
       "                    --jp-layout-color2: #454545;\n",
       "                    background-color: #383838;\n",
       "                }\n",
       "\n",
       "                .geemap-dark .jupyter-button {\n",
       "                    --jp-layout-color3: #383838;\n",
       "                }\n",
       "\n",
       "                .geemap-colab {\n",
       "                    background-color: var(--colab-primary-surface-color, white);\n",
       "                }\n",
       "\n",
       "                .geemap-colab .jupyter-button {\n",
       "                    --jp-layout-color3: var(--colab-primary-surface-color, white);\n",
       "                }\n",
       "            </style>\n",
       "            "
      ],
      "text/plain": [
       "<IPython.core.display.HTML object>"
      ]
     },
     "metadata": {},
     "output_type": "display_data"
    }
   ],
   "source": [
    "def display_mtbs_by_event_id(event_id):\n",
    "    \"\"\"\n",
    "    Display the MTBS burned area boundary for a specific Event ID.\n",
    "\n",
    "    Parameters:\n",
    "    - event_id (str): The Event ID to filter the dataset by.\n",
    "    \"\"\"\n",
    "    # Initialize GEE\n",
    "    initialize_gee()\n",
    "\n",
    "    # Load the MTBS burned area boundaries dataset\n",
    "    dataset = ee.FeatureCollection('USFS/GTAC/MTBS/burned_area_boundaries/v1')\n",
    "\n",
    "    # Define the field and value to filter by\n",
    "    field_name = 'Event_ID'  # Field name to filter by\n",
    "\n",
    "    # Filter the dataset by the specified Event ID\n",
    "    filtered_feature = dataset.filter(ee.Filter.eq(field_name, event_id))\n",
    "\n",
    "    # Check if the filtered dataset is empty\n",
    "    count = filtered_feature.size().getInfo()\n",
    "    if count == 0:\n",
    "        print(f\"No feature found with {field_name}: {event_id}\")\n",
    "        return None\n",
    "    else:\n",
    "        print(f\"Displaying feature with {field_name}: {event_id}\")\n",
    "\n",
    "    # Visualization parameters\n",
    "    vis_params = {\n",
    "        'fillColor': '#ff8a50',  # Fill color for the boundary\n",
    "        'color': '#ff5722',      # Outline color\n",
    "        'width': 2.0             # Outline width\n",
    "    }\n",
    "\n",
    "    # Create a map object\n",
    "    map_ = geemap.Map()\n",
    "\n",
    "    # Add the filtered feature to the map\n",
    "    map_.addLayer(filtered_feature, vis_params, f\"{field_name}: {event_id}\")\n",
    "\n",
    "    # Zoom to the feature if it exists\n",
    "    map_.centerObject(filtered_feature, zoom=10)\n",
    "\n",
    "    # Display the map\n",
    "    return map_\n"
   ]
  },
  {
   "cell_type": "code",
   "execution_count": 66,
   "metadata": {},
   "outputs": [
    {
     "data": {
      "text/html": [
       "\n",
       "            <style>\n",
       "                .geemap-dark {\n",
       "                    --jp-widgets-color: white;\n",
       "                    --jp-widgets-label-color: white;\n",
       "                    --jp-ui-font-color1: white;\n",
       "                    --jp-layout-color2: #454545;\n",
       "                    background-color: #383838;\n",
       "                }\n",
       "\n",
       "                .geemap-dark .jupyter-button {\n",
       "                    --jp-layout-color3: #383838;\n",
       "                }\n",
       "\n",
       "                .geemap-colab {\n",
       "                    background-color: var(--colab-primary-surface-color, white);\n",
       "                }\n",
       "\n",
       "                .geemap-colab .jupyter-button {\n",
       "                    --jp-layout-color3: var(--colab-primary-surface-color, white);\n",
       "                }\n",
       "            </style>\n",
       "            "
      ],
      "text/plain": [
       "<IPython.core.display.HTML object>"
      ]
     },
     "metadata": {},
     "output_type": "display_data"
    },
    {
     "name": "stdout",
     "output_type": "stream",
     "text": [
      "Google Earth Engine initialized successfully.\n",
      "Displaying feature with Event_ID: CA3983912034520210702\n"
     ]
    },
    {
     "data": {
      "application/vnd.jupyter.widget-view+json": {
       "model_id": "ee19ea8e11524087848bd0143a6778cb",
       "version_major": 2,
       "version_minor": 0
      },
      "text/plain": [
       "Map(center=[39.93642291484538, -120.17855459031658], controls=(WidgetControl(options=['position', 'transparent…"
      ]
     },
     "execution_count": 66,
     "metadata": {},
     "output_type": "execute_result"
    }
   ],
   "source": [
    "\n",
    "# Example usage of the function\n",
    "event_id = 'CA3983912034520210702'  # Replace with your desired Event ID\n",
    "\n",
    "# Call the function and display the map\n",
    "display_mtbs_by_event_id(event_id)"
   ]
  },
  {
   "cell_type": "code",
   "execution_count": null,
   "metadata": {},
   "outputs": [
    {
     "data": {
      "text/html": [
       "\n",
       "            <style>\n",
       "                .geemap-dark {\n",
       "                    --jp-widgets-color: white;\n",
       "                    --jp-widgets-label-color: white;\n",
       "                    --jp-ui-font-color1: white;\n",
       "                    --jp-layout-color2: #454545;\n",
       "                    background-color: #383838;\n",
       "                }\n",
       "\n",
       "                .geemap-dark .jupyter-button {\n",
       "                    --jp-layout-color3: #383838;\n",
       "                }\n",
       "\n",
       "                .geemap-colab {\n",
       "                    background-color: var(--colab-primary-surface-color, white);\n",
       "                }\n",
       "\n",
       "                .geemap-colab .jupyter-button {\n",
       "                    --jp-layout-color3: var(--colab-primary-surface-color, white);\n",
       "                }\n",
       "            </style>\n",
       "            "
      ],
      "text/plain": [
       "<IPython.core.display.HTML object>"
      ]
     },
     "metadata": {},
     "output_type": "display_data"
    }
   ],
   "source": [
    "def get_mtbs_properties(event_id):\n",
    "    \"\"\"\n",
    "    Retrieve the properties of an MTBS burned area boundary feature based on Event ID.\n",
    "\n",
    "    Parameters:\n",
    "    - event_id (str): The Event ID to filter the dataset by.\n",
    "\n",
    "    Returns:\n",
    "    - pd.DataFrame: A DataFrame containing the feature's properties.\n",
    "    \"\"\"\n",
    "    # Load the MTBS burned area boundaries dataset\n",
    "    dataset = ee.FeatureCollection('USFS/GTAC/MTBS/burned_area_boundaries/v1')\n",
    "\n",
    "    # Filter the dataset by the specified Event ID\n",
    "    filtered_feature = dataset.filter(ee.Filter.eq('Event_ID', event_id)).first()\n",
    "\n",
    "    # Check if the feature exists\n",
    "    if filtered_feature is None:\n",
    "        print(f\"No feature found with Event_ID: {event_id}\")\n",
    "        return None\n",
    "    else:\n",
    "        # Get the feature's properties\n",
    "        properties = filtered_feature.getInfo()['properties']\n",
    "\n",
    "        # Convert the properties dictionary to a DataFrame\n",
    "        df = pd.DataFrame([properties])\n",
    "\n",
    "        return df\n"
   ]
  },
  {
   "cell_type": "code",
   "execution_count": 70,
   "metadata": {},
   "outputs": [
    {
     "data": {
      "text/html": [
       "\n",
       "            <style>\n",
       "                .geemap-dark {\n",
       "                    --jp-widgets-color: white;\n",
       "                    --jp-widgets-label-color: white;\n",
       "                    --jp-ui-font-color1: white;\n",
       "                    --jp-layout-color2: #454545;\n",
       "                    background-color: #383838;\n",
       "                }\n",
       "\n",
       "                .geemap-dark .jupyter-button {\n",
       "                    --jp-layout-color3: #383838;\n",
       "                }\n",
       "\n",
       "                .geemap-colab {\n",
       "                    background-color: var(--colab-primary-surface-color, white);\n",
       "                }\n",
       "\n",
       "                .geemap-colab .jupyter-button {\n",
       "                    --jp-layout-color3: var(--colab-primary-surface-color, white);\n",
       "                }\n",
       "            </style>\n",
       "            "
      ],
      "text/plain": [
       "<IPython.core.display.HTML object>"
      ]
     },
     "metadata": {},
     "output_type": "display_data"
    },
    {
     "name": "stdout",
     "output_type": "stream",
     "text": [
      "Google Earth Engine initialized successfully.\n"
     ]
    },
    {
     "data": {
      "text/html": [
       "<div>\n",
       "<style scoped>\n",
       "    .dataframe tbody tr th:only-of-type {\n",
       "        vertical-align: middle;\n",
       "    }\n",
       "\n",
       "    .dataframe tbody tr th {\n",
       "        vertical-align: top;\n",
       "    }\n",
       "\n",
       "    .dataframe thead th {\n",
       "        text-align: right;\n",
       "    }\n",
       "</style>\n",
       "<table border=\"1\" class=\"dataframe\">\n",
       "  <thead>\n",
       "    <tr style=\"text-align: right;\">\n",
       "      <th></th>\n",
       "      <th>Asmnt_Type</th>\n",
       "      <th>BurnBndAc</th>\n",
       "      <th>BurnBndLat</th>\n",
       "      <th>BurnBndLon</th>\n",
       "      <th>Comment</th>\n",
       "      <th>Event_ID</th>\n",
       "      <th>High_T</th>\n",
       "      <th>Ig_Date</th>\n",
       "      <th>IncGreen_T</th>\n",
       "      <th>Incid_Name</th>\n",
       "      <th>...</th>\n",
       "      <th>Map_ID</th>\n",
       "      <th>Map_Prog</th>\n",
       "      <th>Mod_T</th>\n",
       "      <th>NoData_T</th>\n",
       "      <th>Perim_ID</th>\n",
       "      <th>Post_ID</th>\n",
       "      <th>Pre_ID</th>\n",
       "      <th>dNBR_offst</th>\n",
       "      <th>dNBR_stdDv</th>\n",
       "      <th>irwinID</th>\n",
       "    </tr>\n",
       "  </thead>\n",
       "  <tbody>\n",
       "    <tr>\n",
       "      <th>0</th>\n",
       "      <td>Initial</td>\n",
       "      <td>108368</td>\n",
       "      <td>39.957</td>\n",
       "      <td>-120.181</td>\n",
       "      <td>CA3987512036820210703 is a duplicate of this f...</td>\n",
       "      <td>CA3983912034520210702</td>\n",
       "      <td>650</td>\n",
       "      <td>1625209200000</td>\n",
       "      <td>-150</td>\n",
       "      <td>SUGAR</td>\n",
       "      <td>...</td>\n",
       "      <td>10024011</td>\n",
       "      <td>MTBS</td>\n",
       "      <td>450</td>\n",
       "      <td>-970</td>\n",
       "      <td></td>\n",
       "      <td>804303220210805</td>\n",
       "      <td>804303220200701</td>\n",
       "      <td>44</td>\n",
       "      <td>32</td>\n",
       "      <td>33088F36-F802-4500-86A4-82DA6A62425F</td>\n",
       "    </tr>\n",
       "  </tbody>\n",
       "</table>\n",
       "<p>1 rows × 22 columns</p>\n",
       "</div>"
      ],
      "text/plain": [
       "  Asmnt_Type  BurnBndAc BurnBndLat BurnBndLon  \\\n",
       "0    Initial     108368     39.957   -120.181   \n",
       "\n",
       "                                             Comment               Event_ID  \\\n",
       "0  CA3987512036820210703 is a duplicate of this f...  CA3983912034520210702   \n",
       "\n",
       "   High_T        Ig_Date  IncGreen_T Incid_Name  ...    Map_ID  Map_Prog  \\\n",
       "0     650  1625209200000        -150      SUGAR  ...  10024011      MTBS   \n",
       "\n",
       "   Mod_T NoData_T  Perim_ID          Post_ID           Pre_ID dNBR_offst  \\\n",
       "0    450     -970            804303220210805  804303220200701         44   \n",
       "\n",
       "  dNBR_stdDv                               irwinID  \n",
       "0         32  33088F36-F802-4500-86A4-82DA6A62425F  \n",
       "\n",
       "[1 rows x 22 columns]"
      ]
     },
     "execution_count": 70,
     "metadata": {},
     "output_type": "execute_result"
    }
   ],
   "source": [
    "# Example usage of the function\n",
    "event_id = 'CA3983912034520210702'  # Replace with your desired Event ID\n",
    "\n",
    "# Call the function and get the DataFrame\n",
    "df = get_mtbs_properties(event_id)\n",
    "\n",
    "df"
   ]
  }
 ],
 "metadata": {
  "kernelspec": {
   "display_name": "envburn",
   "language": "python",
   "name": "python3"
  },
  "language_info": {
   "codemirror_mode": {
    "name": "ipython",
    "version": 3
   },
   "file_extension": ".py",
   "mimetype": "text/x-python",
   "name": "python",
   "nbconvert_exporter": "python",
   "pygments_lexer": "ipython3",
   "version": "3.12.8"
  }
 },
 "nbformat": 4,
 "nbformat_minor": 2
}
