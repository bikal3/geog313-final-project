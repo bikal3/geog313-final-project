{
 "cells": [
  {
   "cell_type": "code",
   "execution_count": 19,
   "metadata": {},
   "outputs": [
    {
     "data": {
      "text/html": [
       "\n",
       "            <style>\n",
       "                .geemap-dark {\n",
       "                    --jp-widgets-color: white;\n",
       "                    --jp-widgets-label-color: white;\n",
       "                    --jp-ui-font-color1: white;\n",
       "                    --jp-layout-color2: #454545;\n",
       "                    background-color: #383838;\n",
       "                }\n",
       "\n",
       "                .geemap-dark .jupyter-button {\n",
       "                    --jp-layout-color3: #383838;\n",
       "                }\n",
       "\n",
       "                .geemap-colab {\n",
       "                    background-color: var(--colab-primary-surface-color, white);\n",
       "                }\n",
       "\n",
       "                .geemap-colab .jupyter-button {\n",
       "                    --jp-layout-color3: var(--colab-primary-surface-color, white);\n",
       "                }\n",
       "            </style>\n",
       "            "
      ],
      "text/plain": [
       "<IPython.core.display.HTML object>"
      ]
     },
     "metadata": {},
     "output_type": "display_data"
    }
   ],
   "source": [
    "import ee\n",
    "import geemap"
   ]
  },
  {
   "cell_type": "code",
   "execution_count": 20,
   "metadata": {},
   "outputs": [
    {
     "data": {
      "text/html": [
       "\n",
       "            <style>\n",
       "                .geemap-dark {\n",
       "                    --jp-widgets-color: white;\n",
       "                    --jp-widgets-label-color: white;\n",
       "                    --jp-ui-font-color1: white;\n",
       "                    --jp-layout-color2: #454545;\n",
       "                    background-color: #383838;\n",
       "                }\n",
       "\n",
       "                .geemap-dark .jupyter-button {\n",
       "                    --jp-layout-color3: #383838;\n",
       "                }\n",
       "\n",
       "                .geemap-colab {\n",
       "                    background-color: var(--colab-primary-surface-color, white);\n",
       "                }\n",
       "\n",
       "                .geemap-colab .jupyter-button {\n",
       "                    --jp-layout-color3: var(--colab-primary-surface-color, white);\n",
       "                }\n",
       "            </style>\n",
       "            "
      ],
      "text/plain": [
       "<IPython.core.display.HTML object>"
      ]
     },
     "metadata": {},
     "output_type": "display_data"
    }
   ],
   "source": [
    "\n",
    "# Authenticate and initialize GEE\n",
    "try:\n",
    "    ee.Initialize()\n",
    "except Exception as e:\n",
    "    ee.Authenticate()\n",
    "    ee.Initialize()"
   ]
  },
  {
   "cell_type": "code",
   "execution_count": null,
   "metadata": {},
   "outputs": [],
   "source": [
    "# Load the MTBS burn severity dataset\n",
    "mtbs = ee.ImageCollection(\"USFS/GTAC/MTBS/annual_burn_severity_mosaics/v1\")"
   ]
  },
  {
   "cell_type": "code",
   "execution_count": null,
   "metadata": {},
   "outputs": [],
   "source": [
    "# Filter the dataset by date range\n",
    "mtbs_filtered = mtbs.filterDate('2016-01-01', '2023-12-31')"
   ]
  },
  {
   "cell_type": "code",
   "execution_count": null,
   "metadata": {},
   "outputs": [],
   "source": [
    "# Example AOI: California\n",
    "aoi = ee.Geometry.Rectangle([-124.4, 32.5, -114.1, 42.0])  # Bounding box for California"
   ]
  },
  {
   "cell_type": "code",
   "execution_count": null,
   "metadata": {},
   "outputs": [],
   "source": [
    "# Define visualization parameters\n",
    "vis_params = {\n",
    "    'bands': ['Severity'],\n",
    "    'min': 1,\n",
    "    'max': 4,\n",
    "    'palette': ['white', 'green', 'yellow', 'red']  # Colors for unburned, low, moderate, and high severity\n",
    "}"
   ]
  },
  {
   "cell_type": "code",
   "execution_count": 24,
   "metadata": {},
   "outputs": [
    {
     "data": {
      "text/html": [
       "\n",
       "            <style>\n",
       "                .geemap-dark {\n",
       "                    --jp-widgets-color: white;\n",
       "                    --jp-widgets-label-color: white;\n",
       "                    --jp-ui-font-color1: white;\n",
       "                    --jp-layout-color2: #454545;\n",
       "                    background-color: #383838;\n",
       "                }\n",
       "\n",
       "                .geemap-dark .jupyter-button {\n",
       "                    --jp-layout-color3: #383838;\n",
       "                }\n",
       "\n",
       "                .geemap-colab {\n",
       "                    background-color: var(--colab-primary-surface-color, white);\n",
       "                }\n",
       "\n",
       "                .geemap-colab .jupyter-button {\n",
       "                    --jp-layout-color3: var(--colab-primary-surface-color, white);\n",
       "                }\n",
       "            </style>\n",
       "            "
      ],
      "text/plain": [
       "<IPython.core.display.HTML object>"
      ]
     },
     "metadata": {},
     "output_type": "display_data"
    },
    {
     "data": {
      "application/vnd.jupyter.widget-view+json": {
       "model_id": "9e0d56bb278d4a66942b9bc4c53cb004",
       "version_major": 2,
       "version_minor": 0
      },
      "text/plain": [
       "Map(center=[37.5, -119], controls=(WidgetControl(options=['position', 'transparent_bg'], widget=SearchDataGUI(…"
      ]
     },
     "execution_count": 24,
     "metadata": {},
     "output_type": "execute_result"
    }
   ],
   "source": [
    "# Create a map\n",
    "map_ = geemap.Map(center=[37.5, -119], zoom=6)\n",
    "map_.addLayer(mtbs.median().clip(aoi), vis_params, \"MTBS Burn Severity 2016-2023\")\n",
    "map_.addLayer(aoi, {}, \"AOI\")\n",
    "\n",
    "# Define legend details based on the class table\n",
    "legend_dict = {\n",
    "    'Background': '#000000',\n",
    "    'Unburned to Low': '#006400',\n",
    "    'Low': '#7fffd4',\n",
    "    'Moderate': '#ffff00',\n",
    "    'High': '#ff0000',\n",
    "    'Increased Greenness': '#7fff00',\n",
    "    'Non-Mapping Area': '#ffffff'\n",
    "}\n",
    "\n",
    "# Add the legend to the map\n",
    "map_.add_legend(title=\"MTBS Burn Severity Legend\", legend_dict=legend_dict)\n",
    "\n",
    "# Display the map\n",
    "map_"
   ]
  },
  {
   "cell_type": "code",
   "execution_count": 23,
   "metadata": {},
   "outputs": [
    {
     "data": {
      "text/html": [
       "\n",
       "            <style>\n",
       "                .geemap-dark {\n",
       "                    --jp-widgets-color: white;\n",
       "                    --jp-widgets-label-color: white;\n",
       "                    --jp-ui-font-color1: white;\n",
       "                    --jp-layout-color2: #454545;\n",
       "                    background-color: #383838;\n",
       "                }\n",
       "\n",
       "                .geemap-dark .jupyter-button {\n",
       "                    --jp-layout-color3: #383838;\n",
       "                }\n",
       "\n",
       "                .geemap-colab {\n",
       "                    background-color: var(--colab-primary-surface-color, white);\n",
       "                }\n",
       "\n",
       "                .geemap-colab .jupyter-button {\n",
       "                    --jp-layout-color3: var(--colab-primary-surface-color, white);\n",
       "                }\n",
       "            </style>\n",
       "            "
      ],
      "text/plain": [
       "<IPython.core.display.HTML object>"
      ]
     },
     "metadata": {},
     "output_type": "display_data"
    },
    {
     "data": {
      "application/vnd.jupyter.widget-view+json": {
       "model_id": "12d902790267427581517e01e3231f36",
       "version_major": 2,
       "version_minor": 0
      },
      "text/plain": [
       "Map(center=[37.5, -119], controls=(WidgetControl(options=['position', 'transparent_bg'], widget=SearchDataGUI(…"
      ]
     },
     "execution_count": 23,
     "metadata": {},
     "output_type": "execute_result"
    }
   ],
   "source": [
    "# Load the MTBS burned area boundaries mtbs_boundaries\n",
    "mtbs_boundaries = ee.FeatureCollection('USFS/GTAC/MTBS/burned_area_boundaries/v1')\n",
    "\n",
    "# Define the AOI (Example: California)\n",
    "aoi = ee.Geometry.Rectangle([-124.4, 32.5, -114.1, 42.0])  # Bounding box for California\n",
    "\n",
    "# Filter the mtbs_boundaries by date range (2016-01-01 to 2021-12-31) and clip to the AOI\n",
    "mtbs_boundaries_filtered = mtbs_boundaries.filterBounds(aoi)\n",
    "\n",
    "# Visualization parameters\n",
    "visparams = {\n",
    "    'fillColor': '#ff8a50',  # Fill color\n",
    "    'color': '#ff5722',      # Outline color\n",
    "    'width': 1.0             # Outline width\n",
    "}\n",
    "\n",
    "# Create a map centered on California\n",
    "map_ = geemap.Map(center=[37.5, -119], zoom=6)\n",
    "\n",
    "# Add the filtered and clipped burned area boundaries layer to the map\n",
    "map_.addLayer(mtbs_boundaries_filtered, visparams, 'MTBS Burned Area Boundaries (2016-2021)')\n",
    "\n",
    "# Add the AOI boundary to the map for reference\n",
    "map_.addLayer(aoi, {'color': 'blue'}, 'AOI Boundary')\n",
    "\n",
    "# Display the map\n",
    "map_"
   ]
  },
  {
   "cell_type": "code",
   "execution_count": 28,
   "metadata": {},
   "outputs": [
    {
     "data": {
      "text/html": [
       "\n",
       "            <style>\n",
       "                .geemap-dark {\n",
       "                    --jp-widgets-color: white;\n",
       "                    --jp-widgets-label-color: white;\n",
       "                    --jp-ui-font-color1: white;\n",
       "                    --jp-layout-color2: #454545;\n",
       "                    background-color: #383838;\n",
       "                }\n",
       "\n",
       "                .geemap-dark .jupyter-button {\n",
       "                    --jp-layout-color3: #383838;\n",
       "                }\n",
       "\n",
       "                .geemap-colab {\n",
       "                    background-color: var(--colab-primary-surface-color, white);\n",
       "                }\n",
       "\n",
       "                .geemap-colab .jupyter-button {\n",
       "                    --jp-layout-color3: var(--colab-primary-surface-color, white);\n",
       "                }\n",
       "            </style>\n",
       "            "
      ],
      "text/plain": [
       "<IPython.core.display.HTML object>"
      ]
     },
     "metadata": {},
     "output_type": "display_data"
    },
    {
     "name": "stdout",
     "output_type": "stream",
     "text": [
      "Displaying feature with Event_ID: CA3983912034520210702\n"
     ]
    },
    {
     "data": {
      "application/vnd.jupyter.widget-view+json": {
       "model_id": "3f0ccecea73045c0a4a9ab8628b7aa5d",
       "version_major": 2,
       "version_minor": 0
      },
      "text/plain": [
       "Map(center=[39.93642291484538, -120.17855459031658], controls=(WidgetControl(options=['position', 'transparent…"
      ]
     },
     "execution_count": 28,
     "metadata": {},
     "output_type": "execute_result"
    }
   ],
   "source": [
    "\n",
    "# Load the MTBS burned area boundaries dataset\n",
    "dataset = ee.FeatureCollection('USFS/GTAC/MTBS/burned_area_boundaries/v1')\n",
    "\n",
    "# Define the field and value to filter by (e.g., 'Event_ID' or 'Incid_Name')\n",
    "field_name = 'Event_ID'  # You can change this to 'Incid_Name' or another field\n",
    "field_value = 'CA3983912034520210702'  # Replace with the specific value you're looking for\n",
    "\n",
    "# Filter the dataset by the specified field and value\n",
    "filtered_feature = dataset.filter(ee.Filter.eq(field_name, field_value))\n",
    "\n",
    "# Check if the filtered dataset is empty\n",
    "count = filtered_feature.size().getInfo()\n",
    "if count == 0:\n",
    "    print(f\"No feature found with {field_name}: {field_value}\")\n",
    "else:\n",
    "    print(f\"Displaying feature with {field_name}: {field_value}\")\n",
    "\n",
    "# Visualization parameters\n",
    "vis_params = {\n",
    "    'fillColor': '#ff8a50',  # Fill color for the boundary\n",
    "    'color': '#ff5722',      # Outline color\n",
    "    'width': 2.0             # Outline width\n",
    "}\n",
    "\n",
    "# Create a map object\n",
    "map_ = geemap.Map()\n",
    "\n",
    "# Add the filtered feature to the map\n",
    "map_.addLayer(filtered_feature, vis_params, f\"{field_name}: {field_value}\")\n",
    "\n",
    "# Zoom to the feature if it exists\n",
    "if count > 0:\n",
    "    map_.centerObject(filtered_feature, zoom=10)\n",
    "\n",
    "# Display the map\n",
    "map_"
   ]
  },
  {
   "cell_type": "code",
   "execution_count": 33,
   "metadata": {},
   "outputs": [
    {
     "data": {
      "text/html": [
       "\n",
       "            <style>\n",
       "                .geemap-dark {\n",
       "                    --jp-widgets-color: white;\n",
       "                    --jp-widgets-label-color: white;\n",
       "                    --jp-ui-font-color1: white;\n",
       "                    --jp-layout-color2: #454545;\n",
       "                    background-color: #383838;\n",
       "                }\n",
       "\n",
       "                .geemap-dark .jupyter-button {\n",
       "                    --jp-layout-color3: #383838;\n",
       "                }\n",
       "\n",
       "                .geemap-colab {\n",
       "                    background-color: var(--colab-primary-surface-color, white);\n",
       "                }\n",
       "\n",
       "                .geemap-colab .jupyter-button {\n",
       "                    --jp-layout-color3: var(--colab-primary-surface-color, white);\n",
       "                }\n",
       "            </style>\n",
       "            "
      ],
      "text/plain": [
       "<IPython.core.display.HTML object>"
      ]
     },
     "metadata": {},
     "output_type": "display_data"
    }
   ],
   "source": [
    "import pandas as pd\n",
    "# Load the MTBS burned area boundaries dataset\n",
    "dataset = ee.FeatureCollection('USFS/GTAC/MTBS/burned_area_boundaries/v1')\n",
    "\n",
    "# Define the Event_ID to filter by\n",
    "event_id = 'CA3983912034520210702'\n",
    "\n",
    "# Filter the dataset by the specific Event_ID\n",
    "filtered_feature = dataset.filter(ee.Filter.eq('Event_ID', event_id)).first()\n",
    "\n",
    "# Check if the feature exists\n",
    "if filtered_feature is None:\n",
    "    print(f\"No feature found with Event_ID: {event_id}\")\n",
    "else:\n",
    "    # Get the feature's properties\n",
    "    properties = filtered_feature.getInfo()['properties']\n",
    "\n",
    "    # # Create a dictionary with the specific properties of interest\n",
    "    # selected_properties = {\n",
    "    #     'Event_ID': properties.get('Event_ID'),\n",
    "    #     'Incid_Name': properties.get('Incid_Name'),\n",
    "    #     'BurnBndAc': properties.get('BurnBndAc'),\n",
    "    #     'Incid_Type': properties.get('Incid_Type'),\n",
    "    #     'irwinID': properties.get('irwinID')\n",
    "    # }\n",
    "\n",
    "    # Convert the selected properties dictionary to a DataFrame\n",
    "    df = pd.DataFrame([properties])\n"
   ]
  },
  {
   "cell_type": "code",
   "execution_count": 34,
   "metadata": {},
   "outputs": [
    {
     "data": {
      "text/html": [
       "\n",
       "            <style>\n",
       "                .geemap-dark {\n",
       "                    --jp-widgets-color: white;\n",
       "                    --jp-widgets-label-color: white;\n",
       "                    --jp-ui-font-color1: white;\n",
       "                    --jp-layout-color2: #454545;\n",
       "                    background-color: #383838;\n",
       "                }\n",
       "\n",
       "                .geemap-dark .jupyter-button {\n",
       "                    --jp-layout-color3: #383838;\n",
       "                }\n",
       "\n",
       "                .geemap-colab {\n",
       "                    background-color: var(--colab-primary-surface-color, white);\n",
       "                }\n",
       "\n",
       "                .geemap-colab .jupyter-button {\n",
       "                    --jp-layout-color3: var(--colab-primary-surface-color, white);\n",
       "                }\n",
       "            </style>\n",
       "            "
      ],
      "text/plain": [
       "<IPython.core.display.HTML object>"
      ]
     },
     "metadata": {},
     "output_type": "display_data"
    },
    {
     "data": {
      "text/html": [
       "<div>\n",
       "<style scoped>\n",
       "    .dataframe tbody tr th:only-of-type {\n",
       "        vertical-align: middle;\n",
       "    }\n",
       "\n",
       "    .dataframe tbody tr th {\n",
       "        vertical-align: top;\n",
       "    }\n",
       "\n",
       "    .dataframe thead th {\n",
       "        text-align: right;\n",
       "    }\n",
       "</style>\n",
       "<table border=\"1\" class=\"dataframe\">\n",
       "  <thead>\n",
       "    <tr style=\"text-align: right;\">\n",
       "      <th></th>\n",
       "      <th>Asmnt_Type</th>\n",
       "      <th>BurnBndAc</th>\n",
       "      <th>BurnBndLat</th>\n",
       "      <th>BurnBndLon</th>\n",
       "      <th>Comment</th>\n",
       "      <th>Event_ID</th>\n",
       "      <th>High_T</th>\n",
       "      <th>Ig_Date</th>\n",
       "      <th>IncGreen_T</th>\n",
       "      <th>Incid_Name</th>\n",
       "      <th>...</th>\n",
       "      <th>Map_ID</th>\n",
       "      <th>Map_Prog</th>\n",
       "      <th>Mod_T</th>\n",
       "      <th>NoData_T</th>\n",
       "      <th>Perim_ID</th>\n",
       "      <th>Post_ID</th>\n",
       "      <th>Pre_ID</th>\n",
       "      <th>dNBR_offst</th>\n",
       "      <th>dNBR_stdDv</th>\n",
       "      <th>irwinID</th>\n",
       "    </tr>\n",
       "  </thead>\n",
       "  <tbody>\n",
       "    <tr>\n",
       "      <th>0</th>\n",
       "      <td>Initial</td>\n",
       "      <td>108368</td>\n",
       "      <td>39.957</td>\n",
       "      <td>-120.181</td>\n",
       "      <td>CA3987512036820210703 is a duplicate of this f...</td>\n",
       "      <td>CA3983912034520210702</td>\n",
       "      <td>650</td>\n",
       "      <td>1625209200000</td>\n",
       "      <td>-150</td>\n",
       "      <td>SUGAR</td>\n",
       "      <td>...</td>\n",
       "      <td>10024011</td>\n",
       "      <td>MTBS</td>\n",
       "      <td>450</td>\n",
       "      <td>-970</td>\n",
       "      <td></td>\n",
       "      <td>804303220210805</td>\n",
       "      <td>804303220200701</td>\n",
       "      <td>44</td>\n",
       "      <td>32</td>\n",
       "      <td>33088F36-F802-4500-86A4-82DA6A62425F</td>\n",
       "    </tr>\n",
       "  </tbody>\n",
       "</table>\n",
       "<p>1 rows × 22 columns</p>\n",
       "</div>"
      ],
      "text/plain": [
       "  Asmnt_Type  BurnBndAc BurnBndLat BurnBndLon  \\\n",
       "0    Initial     108368     39.957   -120.181   \n",
       "\n",
       "                                             Comment               Event_ID  \\\n",
       "0  CA3987512036820210703 is a duplicate of this f...  CA3983912034520210702   \n",
       "\n",
       "   High_T        Ig_Date  IncGreen_T Incid_Name  ...    Map_ID  Map_Prog  \\\n",
       "0     650  1625209200000        -150      SUGAR  ...  10024011      MTBS   \n",
       "\n",
       "   Mod_T NoData_T  Perim_ID          Post_ID           Pre_ID dNBR_offst  \\\n",
       "0    450     -970            804303220210805  804303220200701         44   \n",
       "\n",
       "  dNBR_stdDv                               irwinID  \n",
       "0         32  33088F36-F802-4500-86A4-82DA6A62425F  \n",
       "\n",
       "[1 rows x 22 columns]"
      ]
     },
     "execution_count": 34,
     "metadata": {},
     "output_type": "execute_result"
    }
   ],
   "source": [
    "df"
   ]
  }
 ],
 "metadata": {
  "kernelspec": {
   "display_name": "envburn",
   "language": "python",
   "name": "python3"
  },
  "language_info": {
   "codemirror_mode": {
    "name": "ipython",
    "version": 3
   },
   "file_extension": ".py",
   "mimetype": "text/x-python",
   "name": "python",
   "nbconvert_exporter": "python",
   "pygments_lexer": "ipython3",
   "version": "3.12.8"
  }
 },
 "nbformat": 4,
 "nbformat_minor": 2
}
