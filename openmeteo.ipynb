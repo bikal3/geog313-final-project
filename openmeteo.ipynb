{
 "cells": [
  {
   "cell_type": "code",
   "execution_count": 14,
   "metadata": {},
   "outputs": [],
   "source": [
    "import openmeteo_requests\n",
    "import requests_cache\n",
    "import pandas as pd\n",
    "from retry_requests import retry\n",
    "\n",
    "# Setup the Open-Meteo API client with cache and retry on error\n",
    "cache_session = requests_cache.CachedSession('.cache', expire_after=3600)\n",
    "retry_session = retry(cache_session, retries=5, backoff_factor=0.2)\n",
    "openmeteo = openmeteo_requests.Client(session=retry_session)\n",
    "\n",
    "def get_openmeteo_data(latitude, longitude, start_date, end_date, variables, timezone=\"GMT\", model=\"gfs_seamless\"):\n",
    "    \"\"\"\n",
    "    Fetch and process weather data from the Open-Meteo API.\n",
    "\n",
    "    Args:\n",
    "        latitude (float): Latitude of the location.\n",
    "        longitude (float): Longitude of the location.\n",
    "        start_date (str): Start date in 'YYYY-MM-DD' format.\n",
    "        end_date (str): End date in 'YYYY-MM-DD' format.\n",
    "        variables (list): List of variables to fetch (e.g., 'temperature_2m_max', 'precipitation_sum').\n",
    "        timezone (str): Timezone of the data (default: \"GMT\").\n",
    "        model (str): Weather model to use (default: \"gfs_seamless\").\n",
    "\n",
    "    Returns:\n",
    "        pd.DataFrame: DataFrame containing requested variables and their values.\n",
    "    \"\"\"\n",
    "    url = \"https://api.open-meteo.com/v1/forecast\"\n",
    "    params = {\n",
    "        \"latitude\": latitude,\n",
    "        \"longitude\": longitude,\n",
    "        \"daily\": variables,\n",
    "        \"timezone\": timezone,\n",
    "        \"start_date\": start_date,\n",
    "        \"end_date\": end_date,\n",
    "        \"models\": model\n",
    "    }\n",
    "    \n",
    "    # Fetch data from the Open-Meteo API\n",
    "    responses = openmeteo.weather_api(url, params=params)\n",
    "    response = responses[0]  # Process the first response (can be extended for multiple locations)\n",
    "    \n",
    "    # Extract daily data\n",
    "    daily = response.Daily()\n",
    "    data = {}\n",
    "    \n",
    "    # Assign requested variables dynamically\n",
    "    for i, variable in enumerate(variables):\n",
    "        data[variable] = daily.Variables(i).ValuesAsNumpy()\n",
    "    \n",
    "    # Add date range\n",
    "    data[\"date\"] = pd.date_range(\n",
    "        start=pd.to_datetime(daily.Time(), unit=\"s\", utc=True),\n",
    "        end=pd.to_datetime(daily.TimeEnd(), unit=\"s\", utc=True),\n",
    "        freq=pd.Timedelta(seconds=daily.Interval()),\n",
    "        inclusive=\"left\"\n",
    "    )\n",
    "    \n",
    "    # Convert to DataFrame\n",
    "    df = pd.DataFrame(data)\n",
    "    return df"
   ]
  },
  {
   "cell_type": "code",
   "execution_count": null,
   "metadata": {},
   "outputs": [],
   "source": [
    "# Example Usage\n",
    "latitude = 36.721962\n",
    "longitude = -119.236272\n",
    "start_date = \"2024-11-01\"\n",
    "end_date = \"2024-11-30\"\n",
    "# Select only the variables you need\n",
    "variables = [\"temperature_2m_max\", \"temperature_2m_min\",\"apparent_temperature_max\",\"Sunrise\", \"apparent_temperature_min\",]  "
   ]
  },
  {
   "cell_type": "code",
   "execution_count": 28,
   "metadata": {},
   "outputs": [
    {
     "ename": "OpenMeteoRequestsError",
     "evalue": "{'error': True, 'reason': \"Data corrupted at path ''. Cannot initialize ForecastVariableDaily from invalid String value Sunrise.\"}",
     "output_type": "error",
     "traceback": [
      "\u001b[0;31m---------------------------------------------------------------------------\u001b[0m",
      "\u001b[0;31mOpenMeteoRequestsError\u001b[0m                    Traceback (most recent call last)",
      "Cell \u001b[0;32mIn[28], line 1\u001b[0m\n\u001b[0;32m----> 1\u001b[0m weather_data \u001b[38;5;241m=\u001b[39m get_openmeteo_data(latitude, longitude, start_date, end_date, variables)\n\u001b[1;32m      2\u001b[0m weather_data\n",
      "Cell \u001b[0;32mIn[14], line 39\u001b[0m, in \u001b[0;36mget_openmeteo_data\u001b[0;34m(latitude, longitude, start_date, end_date, variables, timezone, model)\u001b[0m\n\u001b[1;32m     28\u001b[0m params \u001b[38;5;241m=\u001b[39m {\n\u001b[1;32m     29\u001b[0m     \u001b[38;5;124m\"\u001b[39m\u001b[38;5;124mlatitude\u001b[39m\u001b[38;5;124m\"\u001b[39m: latitude,\n\u001b[1;32m     30\u001b[0m     \u001b[38;5;124m\"\u001b[39m\u001b[38;5;124mlongitude\u001b[39m\u001b[38;5;124m\"\u001b[39m: longitude,\n\u001b[0;32m   (...)\u001b[0m\n\u001b[1;32m     35\u001b[0m     \u001b[38;5;124m\"\u001b[39m\u001b[38;5;124mmodels\u001b[39m\u001b[38;5;124m\"\u001b[39m: model\n\u001b[1;32m     36\u001b[0m }\n\u001b[1;32m     38\u001b[0m \u001b[38;5;66;03m# Fetch data from the Open-Meteo API\u001b[39;00m\n\u001b[0;32m---> 39\u001b[0m responses \u001b[38;5;241m=\u001b[39m openmeteo\u001b[38;5;241m.\u001b[39mweather_api(url, params\u001b[38;5;241m=\u001b[39mparams)\n\u001b[1;32m     40\u001b[0m response \u001b[38;5;241m=\u001b[39m responses[\u001b[38;5;241m0\u001b[39m]  \u001b[38;5;66;03m# Process the first response (can be extended for multiple locations)\u001b[39;00m\n\u001b[1;32m     42\u001b[0m \u001b[38;5;66;03m# Extract daily data\u001b[39;00m\n",
      "File \u001b[0;32m/opt/anaconda3/lib/python3.11/site-packages/openmeteo_requests/Client.py:54\u001b[0m, in \u001b[0;36mClient.weather_api\u001b[0;34m(self, url, params, method, verify)\u001b[0m\n\u001b[1;32m     50\u001b[0m \u001b[38;5;28;01mdef\u001b[39;00m \u001b[38;5;21mweather_api\u001b[39m(\n\u001b[1;32m     51\u001b[0m     \u001b[38;5;28mself\u001b[39m, url: \u001b[38;5;28mstr\u001b[39m, params: \u001b[38;5;28many\u001b[39m, method: \u001b[38;5;28mstr\u001b[39m \u001b[38;5;241m=\u001b[39m \u001b[38;5;124m\"\u001b[39m\u001b[38;5;124mGET\u001b[39m\u001b[38;5;124m\"\u001b[39m, verify: \u001b[38;5;28mbool\u001b[39m \u001b[38;5;241m|\u001b[39m \u001b[38;5;28mstr\u001b[39m \u001b[38;5;241m|\u001b[39m \u001b[38;5;28;01mNone\u001b[39;00m \u001b[38;5;241m=\u001b[39m \u001b[38;5;28;01mNone\u001b[39;00m\n\u001b[1;32m     52\u001b[0m ) \u001b[38;5;241m-\u001b[39m\u001b[38;5;241m>\u001b[39m \u001b[38;5;28mlist\u001b[39m[WeatherApiResponse]:\n\u001b[1;32m     53\u001b[0m \u001b[38;5;250m    \u001b[39m\u001b[38;5;124;03m\"\"\"Get and decode as weather api\"\"\"\u001b[39;00m\n\u001b[0;32m---> 54\u001b[0m     \u001b[38;5;28;01mreturn\u001b[39;00m \u001b[38;5;28mself\u001b[39m\u001b[38;5;241m.\u001b[39m_get(WeatherApiResponse, url, params, method, verify)\n",
      "File \u001b[0;32m/opt/anaconda3/lib/python3.11/site-packages/openmeteo_requests/Client.py:35\u001b[0m, in \u001b[0;36mClient._get\u001b[0;34m(self, cls, url, params, method, verify)\u001b[0m\n\u001b[1;32m     33\u001b[0m \u001b[38;5;28;01mif\u001b[39;00m response\u001b[38;5;241m.\u001b[39mstatus_code \u001b[38;5;129;01min\u001b[39;00m [\u001b[38;5;241m400\u001b[39m, \u001b[38;5;241m429\u001b[39m]:\n\u001b[1;32m     34\u001b[0m     response_body \u001b[38;5;241m=\u001b[39m response\u001b[38;5;241m.\u001b[39mjson()\n\u001b[0;32m---> 35\u001b[0m     \u001b[38;5;28;01mraise\u001b[39;00m OpenMeteoRequestsError(response_body)\n\u001b[1;32m     37\u001b[0m response\u001b[38;5;241m.\u001b[39mraise_for_status()\n\u001b[1;32m     39\u001b[0m data \u001b[38;5;241m=\u001b[39m response\u001b[38;5;241m.\u001b[39mcontent\n",
      "\u001b[0;31mOpenMeteoRequestsError\u001b[0m: {'error': True, 'reason': \"Data corrupted at path ''. Cannot initialize ForecastVariableDaily from invalid String value Sunrise.\"}"
     ]
    }
   ],
   "source": [
    "weather_data = get_openmeteo_data(latitude, longitude, start_date, end_date, variables)\n",
    "weather_data"
   ]
  }
 ],
 "metadata": {
  "kernelspec": {
   "display_name": "base",
   "language": "python",
   "name": "python3"
  },
  "language_info": {
   "codemirror_mode": {
    "name": "ipython",
    "version": 3
   },
   "file_extension": ".py",
   "mimetype": "text/x-python",
   "name": "python",
   "nbconvert_exporter": "python",
   "pygments_lexer": "ipython3",
   "version": "3.11.10"
  }
 },
 "nbformat": 4,
 "nbformat_minor": 2
}
