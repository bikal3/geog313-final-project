{
 "cells": [
  {
   "cell_type": "code",
   "execution_count": null,
   "metadata": {},
   "outputs": [],
   "source": [
    "import ee\n",
    "import geemap\n",
    "import json\n",
    "from datetime import datetime"
   ]
  },
  {
   "cell_type": "code",
   "execution_count": null,
   "metadata": {},
   "outputs": [],
   "source": [
    "# EE authentication\n",
    "ee.Authenticate()\n",
    "# Initialize the library.\n",
    "ee.Initialize(project='ee-milagrosbecerra245')"
   ]
  },
  {
   "cell_type": "code",
   "execution_count": null,
   "metadata": {},
   "outputs": [],
   "source": [
    "# Load the dataset\n",
    "burned_area = ee.FeatureCollection(\"USFS/GTAC/MTBS/burned_area_boundaries/v1\")\n",
    "landtype = ee.ImageCollection(\"LANDFIRE/Vegetation/EVC/v1_4_0\")\n",
    "landcover = ee.ImageCollection(\"projects/sat-io/open-datasets/landcover/ESRI_Global-LULC_10m_TS\");\n",
    "burned_severity = ee.ImageCollection(\"USFS/GTAC/MTBS/annual_burn_severity_mosaics/v1\")\n",
    "\n",
    "# Create a Map object\n",
    "Map = geemap.Map(center=[37.5, -120], zoom=6)  # Adjust center and zoom for your area of interest\n",
    "\n",
    "# Define visualization parameters\n",
    "vis_params = {\n",
    "    'color': 'red'  \n",
    "}\n",
    "\n",
    "vis_params\n",
    "\n",
    "# Add the dataset to the map\n",
    "Map.addLayer(burned_area, vis_params, \"Burned Area Boundaries\")\n",
    "Map.addLayer(landtype,)\n",
    "\n",
    "# Display the map\n",
    "Map.addLayerControl()  \n",
    "Map"
   ]
  },
  {
   "cell_type": "code",
   "execution_count": null,
   "metadata": {},
   "outputs": [],
   "source": [
    "import ee\n",
    "import geemap\n",
    "\n",
    "# Initialize the Earth Engine library\n",
    "ee.Initialize()\n",
    "\n",
    "# Load the burned area dataset\n",
    "burned_area = ee.FeatureCollection(\"USFS/GTAC/MTBS/burned_area_boundaries/v1\")\n",
    "\n",
    "# Define the filtering function\n",
    "def filter_burned_area_by_date(start_date, end_date):\n",
    "    \"\"\"\n",
    "    Filters the burned area feature collection based on the given date range.\n",
    "\n",
    "    Args:\n",
    "        start_date (str): The start date in 'YYYY-MM-DD' format.\n",
    "        end_date (str): The end date in 'YYYY-MM-DD' format.\n",
    "\n",
    "    Returns:\n",
    "        ee.FeatureCollection: Filtered feature collection.\n",
    "    \"\"\"\n",
    "    # Convert strings to ee.Date\n",
    "    start = ee.Date(start_date)\n",
    "    end = ee.Date(end_date)\n",
    "    \n",
    "    # Filter the FeatureCollection\n",
    "    filtered_burned_area = burned_area.filterDate(start, end)\n",
    "    return filtered_burned_area\n",
    "\n",
    "# Example usage\n",
    "start_date = \"2020-01-01\"\n",
    "end_date = \"2021-12-31\"\n",
    "filtered_collection = filter_burned_area_by_date(start_date, end_date)\n",
    "\n",
    "# Create a Map object\n",
    "Map = geemap.Map(center=[37.5, -120], zoom=6)  # Adjust center and zoom for your area of interest\n",
    "\n",
    "# Define visualization parameters\n",
    "vis_params = {\n",
    "    'color': 'red'  # Color for the burned area boundaries\n",
    "}\n",
    "\n",
    "# Add the filtered collection to the map\n",
    "Map.addLayer(filtered_collection, vis_params, \"Filtered Burned Areas\")\n",
    "\n",
    "# Add layer controls and display the map\n",
    "Map.addLayerControl()\n",
    "Map\n"
   ]
  },
  {
   "cell_type": "code",
   "execution_count": null,
   "metadata": {},
   "outputs": [],
   "source": []
  },
  {
   "cell_type": "code",
   "execution_count": null,
   "metadata": {},
   "outputs": [],
   "source": [
    "# Add Earth Engine dataset\n",
    "dem = ee.Image(\"USGS/SRTMGL1_003\")\n",
    "landcover = ee.Image(\"ESA/GLOBCOVER_L4_200901_200912_V2_3\").select(\"landcover\")\n",
    "landsat7 = ee.Image(\"LANDSAT/LE7_TOA_5YEAR/1999_2003\").select(\n",
    "    [\"B1\", \"B2\", \"B3\", \"B4\", \"B5\", \"B7\"]\n",
    ")\n",
    "states = ee.FeatureCollection(\"TIGER/2018/States\")\n",
    "\n",
    "# Set visualization parameters.\n",
    "vis_params = {\n",
    "    \"min\": 0,\n",
    "    \"max\": 4000,\n",
    "    \"palette\": [\"006633\", \"E5FFCC\", \"662A00\", \"D8D8D8\", \"F5F5F5\"],\n",
    "}\n",
    "\n",
    "# Add Earth Engine layers to Map\n",
    "Map.addLayer(dem, vis_params, \"SRTM DEM\", True, 0.5)\n",
    "Map.addLayer(landcover, {}, \"Land cover\")\n",
    "Map.addLayer(\n",
    "    landsat7,\n",
    "    {\"bands\": [\"B4\", \"B3\", \"B2\"], \"min\": 20, \"max\": 200, \"gamma\": 2.0},\n",
    "    \"Landsat 7\",\n",
    ")\n",
    "Map.addLayer(states, {}, \"US States\")\n",
    "\n",
    "Map"
   ]
  },
  {
   "cell_type": "code",
   "execution_count": null,
   "metadata": {},
   "outputs": [],
   "source": [
    "m = geemap.Map()"
   ]
  },
  {
   "cell_type": "code",
   "execution_count": null,
   "metadata": {},
   "outputs": [],
   "source": [
    "url = \"https://raw.githubusercontent.com/giswqs/leafmap/master/examples/data/us_cities.geojson\"\n"
   ]
  },
  {
   "cell_type": "code",
   "execution_count": null,
   "metadata": {},
   "outputs": [],
   "source": [
    "m.add_point_layer(url, popup=[\"name\", \"pop_max\"], layer_name=\"US Cities\")\n",
    "m"
   ]
  },
  {
   "cell_type": "code",
   "execution_count": null,
   "metadata": {},
   "outputs": [],
   "source": [
    "# Example usage of the function\n",
    "start_date = '2016-01-01'\n",
    "end_date = '2021-12-31'\n",
    "bbox = [-124.4, 32.5, -114.1, 42.0]  # Bounding box for California\n",
    "event_id = 'CA3983912034520210702'  # Replace with your desired Event ID\n"
   ]
  },
  {
   "cell_type": "code",
   "execution_count": null,
   "metadata": {},
   "outputs": [],
   "source": [
    "def date_to_unix(date_str):\n",
    "    \"\"\"\n",
    "    Convert a date string in 'YYYY-MM-DD' format to Unix timestamp in milliseconds.\n",
    "\n",
    "    Parameters:\n",
    "    - date_str (str): The date string to convert.\n",
    "\n",
    "    Returns:\n",
    "    - int: Unix timestamp in milliseconds.\n",
    "    \"\"\"\n",
    "    return int(datetime.strptime(date_str, '%Y-%m-%d').timestamp() * 1000)"
   ]
  },
  {
   "cell_type": "code",
   "execution_count": null,
   "metadata": {},
   "outputs": [],
   "source": [
    "\n",
    "start_Ig_date = date_to_unix(start_date)\n",
    "end_Ig_date = date_to_unix(end_date)\n",
    "\n",
    "\n",
    "# Load the MTBS burned area boundaries dataset\n",
    "mtbs_boundaries = ee.FeatureCollection('USFS/GTAC/MTBS/burned_area_boundaries/v1')\n",
    "\n",
    "# Define the AOI using the provided bbox\n",
    "aoi = ee.Geometry.Rectangle(bbox)\n",
    "\n",
    "# Filter the dataset by AOI and Ig_Date range\n",
    "mtbs_boundaries_filtered = mtbs_boundaries.filterBounds(aoi).filter(\n",
    "        ee.Filter.rangeContains('Ig_Date', start_Ig_date, end_Ig_date)\n",
    ")\n",
    "\n",
    "# Extract features and properties to create GeoJSON\n",
    "features = mtbs_boundaries_filtered.getInfo()['features']\n",
    "\n",
    "    # Create the GeoJSON structure\n",
    "geojson = {\n",
    "    \"type\": \"FeatureCollection\",\n",
    "    \"features\": []\n",
    "}\n",
    "\n",
    "for feature in features:\n",
    "    geojson['features'].append({\n",
    "        \"type\": \"Feature\",\n",
    "        \"geometry\": feature['geometry'],\n",
    "        \"properties\": {\n",
    "            \"Incid_Name \": feature['properties']['Incid_Name'],\n",
    "            \"Ig_Date\": feature['properties']['Ig_Date'],\n",
    "            \"Event_ID\": feature['properties']['Event_ID']\n",
    "        }\n",
    "    })\n",
    "\n",
    "\n",
    "    # Convert the GeoJSON to string format\n",
    "geojson_data = json.dumps(geojson)\n"
   ]
  },
  {
   "cell_type": "code",
   "execution_count": null,
   "metadata": {},
   "outputs": [],
   "source": [
    "print(geojson)"
   ]
  },
  {
   "cell_type": "code",
   "execution_count": null,
   "metadata": {},
   "outputs": [],
   "source": [
    "\n",
    "# Create a map centered on the AOI\n",
    "center_lat = (bbox[1] + bbox[3]) / 2\n",
    "center_lon = (bbox[0] + bbox[2]) / 2\n",
    "map_ = geemap.Map(center=[center_lat, center_lon], zoom=6)\n",
    "\n",
    "# Visualization parameters\n",
    "vis_params = {\n",
    "    'fillColor': '#ff8a50',  # Fill color\n",
    "    'color': '#ff5722',      # Outline color\n",
    "    'width': 1.0             # Outline width\n",
    "}\n",
    "\n",
    "    # Add the GeoJSON layer to the map with popups\n",
    "map_.addLayer(mtbs_boundaries_filtered, vis_params, popup=[\"Incid_Name\", \"Ig_Date\",\"EventID\"], layer_name=\"geojson_data\")\n",
    "\n",
    "    # Add the AOI boundary to the map for reference\n",
    "map_.addLayer(aoi, {'color': 'blue'}, 'AOI Boundary')\n"
   ]
  },
  {
   "cell_type": "code",
   "execution_count": null,
   "metadata": {},
   "outputs": [],
   "source": [
    "# Example usage of the function\n",
    "start_date = '2016-01-01'\n",
    "end_date = '2021-12-31'\n",
    "bbox = [-124.4, 32.5, -114.1, 42.0]  # Bounding box for California\n",
    "event_id = 'CA3983912034520210702'  # Replace with your desired Event ID\n"
   ]
  },
  {
   "cell_type": "code",
   "execution_count": null,
   "metadata": {},
   "outputs": [],
   "source": [
    "# Call the function and display the map\n",
    "display_mtbs_boundaries(bbox,start_date,end_date)"
   ]
  },
  {
   "cell_type": "code",
   "execution_count": null,
   "metadata": {},
   "outputs": [],
   "source": [
    "import geemap\n",
    "import requests\n",
    "\n",
    "# URL to the GeoJSON for the pop-up\n",
    "geojson_url = \"https://apps.fs.usda.gov/arcx/rest/services/EDW/EDW_MTBS_01/MapServer/63/query?outFields=*&where=1%3D1&f=geojson\"\n",
    "\n",
    "# Load the GeoJSON\n",
    "response = requests.get(geojson_url)\n",
    "geojson_data = response.json()\n",
    "\n",
    "# Filter features by year\n",
    "def filter_by_year(geojson, year):\n",
    "    filtered_features = [\n",
    "        feature for feature in geojson['features']\n",
    "        if feature['properties'].get('BurnYear') == year\n",
    "    ]\n",
    "    geojson['features'] = filtered_features\n",
    "    return geojson\n",
    "\n",
    "# Filter for the year 2020\n",
    "filtered_geojson_2020 = filter_by_year(geojson_data, 2020)\n",
    "\n",
    "# Display the filtered GeoJSON on the map\n",
    "m = geemap.Map()  # Create a map object\n",
    "m.addGeoJSON(filtered_geojson_2020, name=\"MTBS Pop-up GeoJSON (2020)\")  # Add the filtered GeoJSON layer\n",
    "m\n"
   ]
  }
 ],
 "metadata": {
  "kernelspec": {
   "display_name": "base",
   "language": "python",
   "name": "python3"
  },
  "language_info": {
   "codemirror_mode": {
    "name": "ipython",
    "version": 3
   },
   "file_extension": ".py",
   "mimetype": "text/x-python",
   "name": "python",
   "nbconvert_exporter": "python",
   "pygments_lexer": "ipython3",
   "version": "3.11.10"
  }
 },
 "nbformat": 4,
 "nbformat_minor": 2
}
