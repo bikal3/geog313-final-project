{
 "cells": [
  {
   "cell_type": "markdown",
   "metadata": {},
   "source": [
    "## Visualize MTBS and Existing Vegetation Cover\n",
    "In this notebook you can visualize and inspect large dataset listed here.  \n",
    "- [Landfire EVC (Existing Vegetation Cover)](https://developers.google.com/earth-engine/datasets/catalog/LANDFIRE_Vegetation_EVC_v1_4_0)\n",
    "- [ESRI Landcover](https://gee-community-catalog.org/projects/S2TSLULC/#earth-engine-snippet)\n",
    "- [Burned Area](https://developers.google.com/earth-engine/datasets/catalog/USFS_GTAC_MTBS_burned_area_boundaries_v1)\n",
    "- [Burn Severity](https://developers.google.com/earth-engine/datasets/catalog/USFS_GTAC_MTBS_annual_burn_severity_mosaics_v1)\n",
    "- [SRTM](https://developers.google.com/earth-engine/datasets/catalog/CGIAR_SRTM90_V4) "
   ]
  },
  {
   "cell_type": "code",
   "execution_count": 1,
   "metadata": {},
   "outputs": [],
   "source": [
    "import ee\n",
    "import geemap\n",
    "import json\n",
    "from datetime import datetime\n",
    "from utils.mtbs_utils import initialize_gee"
   ]
  },
  {
   "cell_type": "code",
   "execution_count": 2,
   "metadata": {},
   "outputs": [
    {
     "data": {
      "text/html": [
       "\n",
       "            <style>\n",
       "                .geemap-dark {\n",
       "                    --jp-widgets-color: white;\n",
       "                    --jp-widgets-label-color: white;\n",
       "                    --jp-ui-font-color1: white;\n",
       "                    --jp-layout-color2: #454545;\n",
       "                    background-color: #383838;\n",
       "                }\n",
       "\n",
       "                .geemap-dark .jupyter-button {\n",
       "                    --jp-layout-color3: #383838;\n",
       "                }\n",
       "\n",
       "                .geemap-colab {\n",
       "                    background-color: var(--colab-primary-surface-color, white);\n",
       "                }\n",
       "\n",
       "                .geemap-colab .jupyter-button {\n",
       "                    --jp-layout-color3: var(--colab-primary-surface-color, white);\n",
       "                }\n",
       "            </style>\n",
       "            "
      ],
      "text/plain": [
       "<IPython.core.display.HTML object>"
      ]
     },
     "metadata": {},
     "output_type": "display_data"
    },
    {
     "name": "stdout",
     "output_type": "stream",
     "text": [
      "Google Earth Engine initialized successfully.\n"
     ]
    }
   ],
   "source": [
    "# Call the function to initialize GEE\n",
    "initialize_gee()"
   ]
  },
  {
   "cell_type": "markdown",
   "metadata": {},
   "source": [
    "### Visualization of Burned Areas, Land Cover, and Terrain using Google Earth Engine and Geemap"
   ]
  },
  {
   "cell_type": "code",
   "execution_count": 3,
   "metadata": {},
   "outputs": [
    {
     "data": {
      "text/html": [
       "\n",
       "            <style>\n",
       "                .geemap-dark {\n",
       "                    --jp-widgets-color: white;\n",
       "                    --jp-widgets-label-color: white;\n",
       "                    --jp-ui-font-color1: white;\n",
       "                    --jp-layout-color2: #454545;\n",
       "                    background-color: #383838;\n",
       "                }\n",
       "\n",
       "                .geemap-dark .jupyter-button {\n",
       "                    --jp-layout-color3: #383838;\n",
       "                }\n",
       "\n",
       "                .geemap-colab {\n",
       "                    background-color: var(--colab-primary-surface-color, white);\n",
       "                }\n",
       "\n",
       "                .geemap-colab .jupyter-button {\n",
       "                    --jp-layout-color3: var(--colab-primary-surface-color, white);\n",
       "                }\n",
       "            </style>\n",
       "            "
      ],
      "text/plain": [
       "<IPython.core.display.HTML object>"
      ]
     },
     "metadata": {},
     "output_type": "display_data"
    },
    {
     "data": {
      "application/vnd.jupyter.widget-view+json": {
       "model_id": "ea685f4d95e04155b777ae19fa21d0be",
       "version_major": 2,
       "version_minor": 0
      },
      "text/plain": [
       "Map(center=[37.5, -120], controls=(WidgetControl(options=['position', 'transparent_bg'], widget=SearchDataGUI(…"
      ]
     },
     "execution_count": 3,
     "metadata": {},
     "output_type": "execute_result"
    }
   ],
   "source": [
    "# Load datasets\n",
    "burned_area = ee.FeatureCollection(\"USFS/GTAC/MTBS/burned_area_boundaries/v1\")\n",
    "landtype = ee.ImageCollection(\"LANDFIRE/Vegetation/EVC/v1_4_0\")\n",
    "landcover = ee.ImageCollection(\"projects/sat-io/open-datasets/landcover/ESRI_Global-LULC_10m_TS\")\n",
    "burned_severity = ee.ImageCollection(\"USFS/GTAC/MTBS/annual_burn_severity_mosaics/v1\")\n",
    "dem = ee.Image(\"USGS/SRTMGL1_003\")\n",
    "\n",
    "\n",
    "# Create a map object\n",
    "Map = geemap.Map(center=[37.5, -120], zoom=6)\n",
    "\n",
    "# Set visualization parameters\n",
    "burned_vis_params = {\n",
    "    'min': 0,\n",
    "    'max': 6,\n",
    "    'palette': ['#000000', '#006400', '#ffff00', '#ff0000','#7fff00','#ffffff']\n",
    "}\n",
    "\n",
    "EVC_vis_params = {\n",
    "    'min': 11,\n",
    "    'max': 172,\n",
    "    'palette': ['#0000ff', '#9fa1f0', '#403da8', '#444f89','#6677cd','#7a8ef5', '#9eaad7','#343434','#343434',\n",
    "                '#ffebe0','#fdccd3','#ff7a8f','#fd2c4f','#ad001c','#010101','#bfbfbf','#e6e8fa','#d21c5e','#a80084',\n",
    "                \"#d21c77\", \"#fff58c\", \"#faff77\", \"#ffed77\", \"#ffff77\", \"#e3d41c\", \"#fae3a3\", \"#d2ffed\",\n",
    "                \"#7f38ff\", \"#7f38ff\", \"#7f382b\", \"#ffffbf\", \"#ffff9c\", \"#ffff78\", \"#ffff54\", \"#ffff2b\",\n",
    "                \"#ffff00\", \"#7f8fff\", \"#7a7f75\", \"#ccff99\", \"#aee082\", \"#91c46c\", \"#77ab57\", \"#5e9144\",\n",
    "                \"#467832\", \"#336324\", \"#204f16\", \"#003300\", \"#d4b27d\", \"#d1a171\", \"#cc9166\", \"#c77e5a\",\n",
    "                \"#c26e4f\", \"#bd5e46\", \"#b54c3c\", \"#b03b33\", \"#9e0020\", \"#ffcc66\", \"#ffba59\", \"#ffa94d\",\n",
    "                \"#ff9a42\", \"#ff8636\", \"#ff752b\", \"#ff6421\", \"#ff5517\", \"#ff3300\", \"#7a7f75\", \"#ccff99\",\n",
    "                \"#467832\", \"#003300\", \"#d4b27d\", \"#c26e4f\", \"#9e0020\", \"#ffa94d\", \"#ff752b\"]\n",
    "}\n",
    "\n",
    "vis_params_dem = {\n",
    "    \"min\": 0,\n",
    "    \"max\": 4000,\n",
    "    \"palette\": [\"006633\", \"E5FFCC\", \"662A00\", \"D8D8D8\", \"F5F5F5\"],\n",
    "}\n",
    "\n",
    "landcover_vis_params = {\n",
    "    'bands': ['b1'],  \n",
    "    'min': 1,\n",
    "    'max': 9,\n",
    "    'palette': [\n",
    "        'FF0000', '00FF00', '0000FF', 'FFFF00', '00FFFF', \n",
    "        'FF00FF', 'FFFFFF', '808080', '000000'\n",
    "    ]  \n",
    "}\n",
    "\n",
    "# Add layers to the map\n",
    "Map.addLayer(landtype.median(),EVC_vis_params, \"Existing Vegetation Cover\")\n",
    "Map.addLayer(landcover.median(), landcover_vis_params, \"Landcover\")\n",
    "Map.addLayer(dem, vis_params_dem, \"SRTM DEM\", True, 0.5)\n",
    "Map.addLayer(burned_area, {'color': 'red'}, \"Burned Area Boundaries\")\n",
    "Map.addLayer(burned_severity.median(), burned_vis_params, \"Burned Severity Mosaics\")\n",
    "\n",
    "# Display the map with controls\n",
    "Map.addLayerControl()\n",
    "Map\n"
   ]
  },
  {
   "cell_type": "markdown",
   "metadata": {},
   "source": [
    "## Visualize and retrive US Cities for understand what and where are you looking at  "
   ]
  },
  {
   "cell_type": "code",
   "execution_count": 8,
   "metadata": {},
   "outputs": [
    {
     "data": {
      "text/html": [
       "\n",
       "            <style>\n",
       "                .geemap-dark {\n",
       "                    --jp-widgets-color: white;\n",
       "                    --jp-widgets-label-color: white;\n",
       "                    --jp-ui-font-color1: white;\n",
       "                    --jp-layout-color2: #454545;\n",
       "                    background-color: #383838;\n",
       "                }\n",
       "\n",
       "                .geemap-dark .jupyter-button {\n",
       "                    --jp-layout-color3: #383838;\n",
       "                }\n",
       "\n",
       "                .geemap-colab {\n",
       "                    background-color: var(--colab-primary-surface-color, white);\n",
       "                }\n",
       "\n",
       "                .geemap-colab .jupyter-button {\n",
       "                    --jp-layout-color3: var(--colab-primary-surface-color, white);\n",
       "                }\n",
       "            </style>\n",
       "            "
      ],
      "text/plain": [
       "<IPython.core.display.HTML object>"
      ]
     },
     "metadata": {},
     "output_type": "display_data"
    }
   ],
   "source": [
    "m = geemap.Map()"
   ]
  },
  {
   "cell_type": "code",
   "execution_count": 9,
   "metadata": {},
   "outputs": [
    {
     "data": {
      "text/html": [
       "\n",
       "            <style>\n",
       "                .geemap-dark {\n",
       "                    --jp-widgets-color: white;\n",
       "                    --jp-widgets-label-color: white;\n",
       "                    --jp-ui-font-color1: white;\n",
       "                    --jp-layout-color2: #454545;\n",
       "                    background-color: #383838;\n",
       "                }\n",
       "\n",
       "                .geemap-dark .jupyter-button {\n",
       "                    --jp-layout-color3: #383838;\n",
       "                }\n",
       "\n",
       "                .geemap-colab {\n",
       "                    background-color: var(--colab-primary-surface-color, white);\n",
       "                }\n",
       "\n",
       "                .geemap-colab .jupyter-button {\n",
       "                    --jp-layout-color3: var(--colab-primary-surface-color, white);\n",
       "                }\n",
       "            </style>\n",
       "            "
      ],
      "text/plain": [
       "<IPython.core.display.HTML object>"
      ]
     },
     "metadata": {},
     "output_type": "display_data"
    }
   ],
   "source": [
    "url = \"https://raw.githubusercontent.com/giswqs/leafmap/master/examples/data/us_cities.geojson\""
   ]
  },
  {
   "cell_type": "code",
   "execution_count": 10,
   "metadata": {},
   "outputs": [
    {
     "data": {
      "text/html": [
       "\n",
       "            <style>\n",
       "                .geemap-dark {\n",
       "                    --jp-widgets-color: white;\n",
       "                    --jp-widgets-label-color: white;\n",
       "                    --jp-ui-font-color1: white;\n",
       "                    --jp-layout-color2: #454545;\n",
       "                    background-color: #383838;\n",
       "                }\n",
       "\n",
       "                .geemap-dark .jupyter-button {\n",
       "                    --jp-layout-color3: #383838;\n",
       "                }\n",
       "\n",
       "                .geemap-colab {\n",
       "                    background-color: var(--colab-primary-surface-color, white);\n",
       "                }\n",
       "\n",
       "                .geemap-colab .jupyter-button {\n",
       "                    --jp-layout-color3: var(--colab-primary-surface-color, white);\n",
       "                }\n",
       "            </style>\n",
       "            "
      ],
      "text/plain": [
       "<IPython.core.display.HTML object>"
      ]
     },
     "metadata": {},
     "output_type": "display_data"
    },
    {
     "data": {
      "application/vnd.jupyter.widget-view+json": {
       "model_id": "11c7ee80c58f4771b15e0496a89c5082",
       "version_major": 2,
       "version_minor": 0
      },
      "text/plain": [
       "Map(center=[0, 0], controls=(WidgetControl(options=['position', 'transparent_bg'], widget=SearchDataGUI(childr…"
      ]
     },
     "execution_count": 10,
     "metadata": {},
     "output_type": "execute_result"
    }
   ],
   "source": [
    "m.add_point_layer(url, popup=[\"name\", \"pop_max\"], layer_name=\"US Cities\")\n",
    "m"
   ]
  }
 ],
 "metadata": {
  "kernelspec": {
   "display_name": "envburn",
   "language": "python",
   "name": "python3"
  },
  "language_info": {
   "codemirror_mode": {
    "name": "ipython",
    "version": 3
   },
   "file_extension": ".py",
   "mimetype": "text/x-python",
   "name": "python",
   "nbconvert_exporter": "python",
   "pygments_lexer": "ipython3",
   "version": "3.12.8"
  }
 },
 "nbformat": 4,
 "nbformat_minor": 2
}
