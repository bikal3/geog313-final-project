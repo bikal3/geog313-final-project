{
 "cells": [
  {
   "cell_type": "markdown",
   "metadata": {},
   "source": [
    "## Retrieve MTBS by state from Source coop to test Dask and Docker\n",
    "For more information: https://source.coop/repositories/cboettig/fire/description"
   ]
  },
  {
   "cell_type": "code",
   "execution_count": 1,
   "metadata": {},
   "outputs": [],
   "source": [
    "from utils.mtbs_utils import initialize_gee\n",
    "from utils.source_coop_utils import initialize_dask_cluster,get_usgs_data,get_mtbs_shp\n",
    "import os\n",
    "import boto3\n",
    "from dotenv import load_dotenv\n",
    "import dask_geopandas as dg"
   ]
  },
  {
   "cell_type": "code",
   "execution_count": null,
   "metadata": {},
   "outputs": [],
   "source": [
    "initialize_gee()"
   ]
  },
  {
   "cell_type": "code",
   "execution_count": null,
   "metadata": {},
   "outputs": [],
   "source": [
    "# Example eusage\n",
    "client = initialize_dask_cluster()"
   ]
  },
  {
   "cell_type": "code",
   "execution_count": null,
   "metadata": {},
   "outputs": [],
   "source": [
    "AWS_ACCESS_KEY_ID = os.getenv(\"AWS_ACCESS_KEY_ID\")\n",
    "AWS_SECRET_ACCESS_KEY = os.getenv(\"AWS_SECRET_ACCESS_KEY\")"
   ]
  },
  {
   "cell_type": "code",
   "execution_count": null,
   "metadata": {},
   "outputs": [],
   "source": [
    "AWS_ACCESS_KEY_ID"
   ]
  },
  {
   "cell_type": "code",
   "execution_count": null,
   "metadata": {},
   "outputs": [],
   "source": [
    "s3_client = boto3.client('s3',\n",
    "                         aws_access_key_id = AWS_ACCESS_KEY_ID, \n",
    "                         aws_secret_access_key = AWS_SECRET_ACCESS_KEY,\n",
    "                         endpoint_url='https://data.source.coop'\n",
    "                        )\n"
   ]
  },
  {
   "cell_type": "code",
   "execution_count": null,
   "metadata": {},
   "outputs": [],
   "source": [
    "file_name= \"usgs-mtbs\"\n",
    "usgs_ddf = get_usgs_data(file_name, s3_client)"
   ]
  },
  {
   "cell_type": "code",
   "execution_count": null,
   "metadata": {},
   "outputs": [],
   "source": [
    "file_name=\"mtbs_perims_DD.shp\"\n",
    "mtbs_shp_ddf=get_mtbs_shp(file_name, s3_client)"
   ]
  },
  {
   "cell_type": "code",
   "execution_count": null,
   "metadata": {},
   "outputs": [],
   "source": [
    "mtbs_shp_ddf"
   ]
  },
  {
   "cell_type": "code",
   "execution_count": null,
   "metadata": {},
   "outputs": [],
   "source": [
    "\n",
    "\n",
    "# # Load the Dask GeoDataFrame\n",
    "# file_path = \"./data/mtbs_perims_DD.shp\"\n",
    "# mtbs_shp_ddf = dg.read_file(file_path, npartitions=4)\n",
    "\n",
    "# Extract state abbreviation from the 'Event_ID' (first two characters)\n",
    "mtbs_shp_ddf['State'] = mtbs_shp_ddf['Event_ID'].str[:2]\n",
    "\n",
    "# Group by 'State' and count the number of fires\n",
    "fires_by_state = mtbs_shp_ddf.groupby('State').size().compute()\n",
    "\n",
    "# Convert to a DataFrame for better display\n",
    "fires_by_state_df = fires_by_state.reset_index()\n",
    "fires_by_state_df.columns = ['State', 'Fire Count']\n",
    "\n",
    "# Print the result\n",
    "print(fires_by_state_df)"
   ]
  },
  {
   "cell_type": "code",
   "execution_count": null,
   "metadata": {},
   "outputs": [],
   "source": [
    "import matplotlib.pyplot as plt\n",
    "# Sort the DataFrame by Fire Count in descending order\n",
    "fires_by_state_df = fires_by_state_df.sort_values(by='Fire Count', ascending=False)\n",
    "\n",
    "# Plot the data as a bar chart\n",
    "plt.figure(figsize=(15, 8))\n",
    "plt.bar(fires_by_state_df['State'], fires_by_state_df['Fire Count'], color='orange')\n",
    "\n",
    "# Add titles and labels\n",
    "plt.title('Number of Fires by State', fontsize=16)\n",
    "plt.xlabel('State', fontsize=14)\n",
    "plt.ylabel('Fire Count', fontsize=14)\n",
    "\n",
    "# Add value labels on top of the bars\n",
    "for index, value in enumerate(fires_by_state_df['Fire Count']):\n",
    "    plt.text(index, value + 5, str(value), ha='center', va='bottom', fontsize=10)\n",
    "\n",
    "# Show the plot\n",
    "plt.xticks(fontsize=12)\n",
    "plt.yticks(fontsize=12)\n",
    "plt.grid(axis='y', linestyle='--', alpha=0.7)\n",
    "plt.show()"
   ]
  },
  {
   "cell_type": "code",
   "execution_count": 1,
   "metadata": {},
   "outputs": [],
   "source": [
    "import dask_geopandas as dg\n",
    "import geopandas as gpd\n",
    "import leafmap\n",
    "import pandas as pd\n",
    "\n",
    "# Load the Dask GeoDataFrame\n",
    "file_path = \"./data/mtbs_perims_DD.shp\"\n",
    "mtbs_shp_ddf = dg.read_file(file_path, npartitions=4)\n",
    "\n",
    "# Filter the data for Wildfire incidents\n",
    "wildfire_ddf = mtbs_shp_ddf[mtbs_shp_ddf['Incid_Type'] == 'Wildfire']\n",
    "\n",
    "# Extract state abbreviation from the 'Event_ID' (first two characters)\n",
    "wildfire_ddf['State'] = wildfire_ddf['Event_ID'].str[:2]\n",
    "\n",
    "# Group by 'State' and count the number of wildfires\n",
    "wildfires_by_state = wildfire_ddf.groupby('State').size().compute()\n",
    "\n",
    "# Convert to a DataFrame for merging\n",
    "wildfires_by_state_df = wildfires_by_state.reset_index()\n",
    "wildfires_by_state_df.columns = ['State', 'Wildfire Count']\n",
    "\n",
    "# Categorize severity levels\n",
    "def classify_severity(count):\n",
    "    if count < 50:\n",
    "        return 'Low'\n",
    "    elif 50 <= count < 200:\n",
    "        return 'Medium'\n",
    "    else:\n",
    "        return 'High'\n",
    "\n",
    "wildfires_by_state_df['Severity'] = wildfires_by_state_df['Wildfire Count'].apply(classify_severity)\n",
    "\n",
    "# Load US states shapefile from Natural Earth\n",
    "us_states = gpd.read_file(\"https://www2.census.gov/geo/tiger/GENZ2021/shp/cb_2021_us_state_20m.zip\")\n",
    "\n",
    "# Create a column for state abbreviations in the shapefile\n",
    "state_abbrev_mapping = {\n",
    "    'Alaska': 'AK', 'Hawaii': 'HI', 'Alabama': 'AL', 'Arizona': 'AZ', 'Arkansas': 'AR',\n",
    "    'California': 'CA', 'Colorado': 'CO', 'Connecticut': 'CT', 'Delaware': 'DE', 'Florida': 'FL',\n",
    "    'Georgia': 'GA', 'Idaho': 'ID', 'Illinois': 'IL', 'Indiana': 'IN', 'Iowa': 'IA', 'Kansas': 'KS',\n",
    "    'Kentucky': 'KY', 'Louisiana': 'LA', 'Maine': 'ME', 'Maryland': 'MD', 'Massachusetts': 'MA',\n",
    "    'Michigan': 'MI', 'Minnesota': 'MN', 'Mississippi': 'MS', 'Missouri': 'MO', 'Montana': 'MT',\n",
    "    'Nebraska': 'NE', 'Nevada': 'NV', 'New Hampshire': 'NH', 'New Jersey': 'NJ', 'New Mexico': 'NM',\n",
    "    'New York': 'NY', 'North Carolina': 'NC', 'North Dakota': 'ND', 'Ohio': 'OH', 'Oklahoma': 'OK',\n",
    "    'Oregon': 'OR', 'Pennsylvania': 'PA', 'Rhode Island': 'RI', 'South Carolina': 'SC',\n",
    "    'South Dakota': 'SD', 'Tennessee': 'TN', 'Texas': 'TX', 'Utah': 'UT', 'Vermont': 'VT',\n",
    "    'Virginia': 'VA', 'Washington': 'WA', 'West Virginia': 'WV', 'Wisconsin': 'WI', 'Wyoming': 'WY'\n",
    "}\n",
    "us_states['State'] = us_states['NAME'].map(state_abbrev_mapping)\n",
    "\n",
    "# Merge the wildfire counts with the US states shapefile\n",
    "us_states = us_states.merge(wildfires_by_state_df, on='State', how='left')\n",
    "us_states['Wildfire Count'] = us_states['Wildfire Count'].fillna(0)\n",
    "us_states['Severity'] = us_states['Severity'].fillna('Low')\n",
    "\n",
    "\n",
    "# Define a style callback function for dynamic styling based on severity\n",
    "def style_callback(feature):\n",
    "    severity = feature['properties']['Severity']\n",
    "    color_map = {\n",
    "        'Low': '#ffffb2',\n",
    "        'Medium': '#fd8d3c',\n",
    "        'High': '#bd0026'\n",
    "    }\n",
    "    return {\n",
    "        \"fillColor\": color_map.get(severity, '#ffffb2'),\n",
    "        \"color\": \"black\",\n",
    "        \"weight\": 1,\n",
    "        \"fillOpacity\": 0.7\n",
    "    }\n",
    "# Create a map using leafmap\n",
    "m = leafmap.Map(center=[39.8283, -98.5795], zoom=4)\n",
    "# Add the US states layer with wildfire counts\n",
    "m.add_gdf(\n",
    "    us_states,\n",
    "    layer_name='Wildfires by State',\n",
    "    info_mode='on_click',\n",
    "    style_callback=style_callback,\n",
    ")\n",
    "\n",
    "# Add a legend\n",
    "m.add_legend(\n",
    "    title=\"Wildfire Severity by State\",\n",
    "    labels=['Low', 'Medium', 'High'],\n",
    "    colors=['#ffffb2', '#fd8d3c', '#bd0026']\n",
    ")\n"
   ]
  },
  {
   "cell_type": "code",
   "execution_count": 2,
   "metadata": {},
   "outputs": [
    {
     "data": {
      "application/vnd.jupyter.widget-view+json": {
       "model_id": "99198fb622604e76980729d9f166c90b",
       "version_major": 2,
       "version_minor": 0
      },
      "text/plain": [
       "Map(center=[39.8283, -98.5795], controls=(ZoomControl(options=['position', 'zoom_in_text', 'zoom_in_title', 'z…"
      ]
     },
     "execution_count": 2,
     "metadata": {},
     "output_type": "execute_result"
    }
   ],
   "source": [
    "m"
   ]
  },
  {
   "cell_type": "code",
   "execution_count": null,
   "metadata": {},
   "outputs": [],
   "source": [
    "m = leafmap.Map(center=[0, 0], zoom=2)\n",
    "url = \"https://raw.githubusercontent.com/opengeos/leafmap/master/examples/data/countries.geojson\"\n",
    "m.add_geojson(\n",
    "    url, layer_name=\"Countries\", fill_colors=[\"red\", \"yellow\", \"green\", \"orange\"]\n",
    ")\n",
    "m"
   ]
  },
  {
   "cell_type": "code",
   "execution_count": 9,
   "metadata": {},
   "outputs": [],
   "source": [
    "raster= \"./wildfire_severity.tif\""
   ]
  },
  {
   "cell_type": "code",
   "execution_count": 10,
   "metadata": {},
   "outputs": [],
   "source": [
    "m.add_raster(raster, colormap=\"terrain\", layer_name=\"raster\")"
   ]
  },
  {
   "cell_type": "code",
   "execution_count": null,
   "metadata": {},
   "outputs": [],
   "source": [
    "# Display the map\n",
    "m"
   ]
  },
  {
   "cell_type": "code",
   "execution_count": null,
   "metadata": {},
   "outputs": [],
   "source": [
    "mtbs_shp_ddf.compute()"
   ]
  },
  {
   "cell_type": "code",
   "execution_count": null,
   "metadata": {},
   "outputs": [],
   "source": [
    "ddf=usgs_ddf.compute()"
   ]
  },
  {
   "cell_type": "code",
   "execution_count": null,
   "metadata": {},
   "outputs": [],
   "source": [
    "ddf.column()"
   ]
  },
  {
   "cell_type": "code",
   "execution_count": null,
   "metadata": {},
   "outputs": [],
   "source": [
    "mtbs_ddf.head()"
   ]
  },
  {
   "cell_type": "code",
   "execution_count": null,
   "metadata": {},
   "outputs": [],
   "source": [
    "print(mtbs_ddf.columns)"
   ]
  },
  {
   "cell_type": "code",
   "execution_count": null,
   "metadata": {},
   "outputs": [],
   "source": [
    "mtbs_ddf.columns = mtbs_ddf.columns.str.strip()"
   ]
  },
  {
   "cell_type": "code",
   "execution_count": null,
   "metadata": {},
   "outputs": [],
   "source": [
    "print(mtbs_ddf['Ig_Date'].dtype)"
   ]
  },
  {
   "cell_type": "code",
   "execution_count": null,
   "metadata": {},
   "outputs": [],
   "source": [
    "mtbs_ddf['Ig_Date'] = dd.to_datetime(mtbs_ddf['Ig_Date'], errors='coerce')"
   ]
  },
  {
   "cell_type": "code",
   "execution_count": null,
   "metadata": {},
   "outputs": [],
   "source": [
    "grouped = mtbs_ddf.groupby('Ig_Date')\n",
    "print(grouped)"
   ]
  },
  {
   "cell_type": "code",
   "execution_count": null,
   "metadata": {},
   "outputs": [],
   "source": [
    "ddf.plot()"
   ]
  }
 ],
 "metadata": {
  "kernelspec": {
   "display_name": "envburn",
   "language": "python",
   "name": "python3"
  },
  "language_info": {
   "codemirror_mode": {
    "name": "ipython",
    "version": 3
   },
   "file_extension": ".py",
   "mimetype": "text/x-python",
   "name": "python",
   "nbconvert_exporter": "python",
   "pygments_lexer": "ipython3",
   "version": "3.12.8"
  }
 },
 "nbformat": 4,
 "nbformat_minor": 2
}
