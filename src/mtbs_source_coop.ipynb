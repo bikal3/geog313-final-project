{
 "cells": [
  {
   "cell_type": "markdown",
   "metadata": {},
   "source": [
    "## Retrieve MTBS by state from Source coop to test Dask and Docker\n",
    "For more information: https://source.coop/repositories/cboettig/fire/description"
   ]
  },
  {
   "cell_type": "code",
   "execution_count": 1,
   "metadata": {},
   "outputs": [],
   "source": [
    "# Import necessary functions \n",
    "from utils.source_coop_utils import initialize_dask_cluster,get_usgs_data,get_mtbs_shp,create_wildfire_severity_map\n",
    "import matplotlib.pyplot as plt\n",
    "import os\n",
    "import boto3\n",
    "from dotenv import load_dotenv"
   ]
  },
  {
   "cell_type": "markdown",
   "metadata": {},
   "source": [
    "### Initialize a Dask cluster for distributed computing\n",
    "\n",
    "This helps in handling large datasets and parallel computation efficiently."
   ]
  },
  {
   "cell_type": "code",
   "execution_count": 2,
   "metadata": {},
   "outputs": [
    {
     "name": "stdout",
     "output_type": "stream",
     "text": [
      "Dask Dashboard is available at: http://127.0.0.1:8787/status\n"
     ]
    }
   ],
   "source": [
    "# Example usage\n",
    "client = initialize_dask_cluster()"
   ]
  },
  {
   "cell_type": "markdown",
   "metadata": {},
   "source": [
    "### Retrieve the AWS Access Key ID and AWS Secret Access Key from the environment variables."
   ]
  },
  {
   "cell_type": "markdown",
   "metadata": {},
   "source": [
    "AWS_ACCESS_KEY_ID = \"Your AWS_ACCESS_KEY_ID Here \"\n",
    "\n",
    "AWS_SECRET_ACCESS_KEY = \"Your AWS_ACCESS_KEY_ID Here\")"
   ]
  },
  {
   "cell_type": "code",
   "execution_count": 3,
   "metadata": {},
   "outputs": [],
   "source": [
    "AWS_ACCESS_KEY_ID = os.getenv(\"AWS_ACCESS_KEY_ID\")#  replace AWS_ACCESS_KEY_ID with your access key \n",
    "AWS_SECRET_ACCESS_KEY = os.getenv(\"AWS_SECRET_ACCESS_KEY\")#  replace AWS_SECRET_ACCESS_KEY with your access key "
   ]
  },
  {
   "cell_type": "code",
   "execution_count": null,
   "metadata": {},
   "outputs": [],
   "source": [
    "# Checking AWS Key \n",
    "AWS_ACCESS_KEY_ID"
   ]
  },
  {
   "cell_type": "markdown",
   "metadata": {},
   "source": [
    "### Create an S3 client using the boto3 library with custom authentication and endpoint settings."
   ]
  },
  {
   "cell_type": "code",
   "execution_count": 4,
   "metadata": {},
   "outputs": [],
   "source": [
    "s3_client = boto3.client(\n",
    "    's3',                             # Specify the AWS service: 's3' (Simple Storage Service).\n",
    "    aws_access_key_id=AWS_ACCESS_KEY_ID,       # Provide the AWS Access Key ID for authentication.\n",
    "    aws_secret_access_key=AWS_SECRET_ACCESS_KEY, # Provide the AWS Secret Access Key for authentication.\n",
    "    endpoint_url='https://data.source.coop'    # Specify a custom S3-compatible endpoint URL (non-AWS S3 service).\n",
    ")"
   ]
  },
  {
   "cell_type": "markdown",
   "metadata": {},
   "source": [
    "### You can skip making new directory if you directory already exists"
   ]
  },
  {
   "cell_type": "code",
   "execution_count": 12,
   "metadata": {},
   "outputs": [],
   "source": [
    "# creating a new directory\n",
    "os.makedirs('./datas', exist_ok=True)"
   ]
  },
  {
   "cell_type": "markdown",
   "metadata": {},
   "source": [
    "\n",
    "### Define a local path where data will be stored or accessed."
   ]
  },
  {
   "cell_type": "code",
   "execution_count": 6,
   "metadata": {},
   "outputs": [],
   "source": [
    "local_path = \"./data\""
   ]
  },
  {
   "cell_type": "code",
   "execution_count": 7,
   "metadata": {},
   "outputs": [
    {
     "name": "stdout",
     "output_type": "stream",
     "text": [
      "File not found locally. Downloading from s3...\n",
      "Download complete.\n",
      "File not found locally. Downloading from s3...\n",
      "Download complete.\n"
     ]
    }
   ],
   "source": [
    "# Define the name of the file to be fetched,\n",
    "file_name= \"usgs-mtbs\"\n",
    "# Fetch USGS data using the `get_usgs_data` function.\n",
    "usgs_ddf = get_usgs_data(file_name, s3_client,local_path)"
   ]
  },
  {
   "cell_type": "code",
   "execution_count": 8,
   "metadata": {},
   "outputs": [
    {
     "name": "stdout",
     "output_type": "stream",
     "text": [
      "File not found locally. Downloading from s3...\n",
      "Download complete.\n",
      "File not found locally. Downloading from s3...\n",
      "Download complete.\n",
      "File not found locally. Downloading from s3...\n",
      "Download complete.\n",
      "File not found locally. Downloading from s3...\n",
      "Download complete.\n",
      "File not found locally. Downloading from s3...\n",
      "Download complete.\n",
      "File not found locally. Downloading from s3...\n",
      "Download complete.\n",
      "File not found locally. Downloading from s3...\n",
      "Download complete.\n",
      "File not found locally. Downloading from s3...\n",
      "Download complete.\n",
      "File not found locally. Downloading from s3...\n",
      "Download complete.\n"
     ]
    }
   ],
   "source": [
    "# Define the name of the file to be fetched,\n",
    "file_name=\"mtbs_perims_DD\"\n",
    "# Fetch MTBS (Monitoring Trends in Burn Severity) shapefile data using the `get_mtbs_shp` function.\n",
    "mtbs_shp_ddf=get_mtbs_shp(file_name, s3_client,local_path)"
   ]
  },
  {
   "cell_type": "code",
   "execution_count": 9,
   "metadata": {},
   "outputs": [
    {
     "data": {
      "text/html": [
       "<div><strong>Dask-GeoPandas GeoDataFrame Structure:</strong></div>\n",
       "<table border=\"1\" class=\"dataframe\">\n",
       "  <thead>\n",
       "    <tr style=\"text-align: right;\">\n",
       "      <th></th>\n",
       "      <th>Event_ID</th>\n",
       "      <th>irwinID</th>\n",
       "      <th>Incid_Name</th>\n",
       "      <th>Incid_Type</th>\n",
       "      <th>Map_ID</th>\n",
       "      <th>Map_Prog</th>\n",
       "      <th>Asmnt_Type</th>\n",
       "      <th>BurnBndAc</th>\n",
       "      <th>BurnBndLat</th>\n",
       "      <th>BurnBndLon</th>\n",
       "      <th>Ig_Date</th>\n",
       "      <th>Pre_ID</th>\n",
       "      <th>Post_ID</th>\n",
       "      <th>Perim_ID</th>\n",
       "      <th>dNBR_offst</th>\n",
       "      <th>dNBR_stdDv</th>\n",
       "      <th>NoData_T</th>\n",
       "      <th>IncGreen_T</th>\n",
       "      <th>Low_T</th>\n",
       "      <th>Mod_T</th>\n",
       "      <th>High_T</th>\n",
       "      <th>Comment</th>\n",
       "      <th>geometry</th>\n",
       "    </tr>\n",
       "    <tr>\n",
       "      <th>npartitions=4</th>\n",
       "      <th></th>\n",
       "      <th></th>\n",
       "      <th></th>\n",
       "      <th></th>\n",
       "      <th></th>\n",
       "      <th></th>\n",
       "      <th></th>\n",
       "      <th></th>\n",
       "      <th></th>\n",
       "      <th></th>\n",
       "      <th></th>\n",
       "      <th></th>\n",
       "      <th></th>\n",
       "      <th></th>\n",
       "      <th></th>\n",
       "      <th></th>\n",
       "      <th></th>\n",
       "      <th></th>\n",
       "      <th></th>\n",
       "      <th></th>\n",
       "      <th></th>\n",
       "      <th></th>\n",
       "      <th></th>\n",
       "    </tr>\n",
       "  </thead>\n",
       "  <tbody>\n",
       "    <tr>\n",
       "      <th>0</th>\n",
       "      <td>object</td>\n",
       "      <td>object</td>\n",
       "      <td>object</td>\n",
       "      <td>object</td>\n",
       "      <td>int64</td>\n",
       "      <td>object</td>\n",
       "      <td>object</td>\n",
       "      <td>int64</td>\n",
       "      <td>object</td>\n",
       "      <td>object</td>\n",
       "      <td>datetime64[ms]</td>\n",
       "      <td>object</td>\n",
       "      <td>object</td>\n",
       "      <td>object</td>\n",
       "      <td>int64</td>\n",
       "      <td>int64</td>\n",
       "      <td>int64</td>\n",
       "      <td>int64</td>\n",
       "      <td>int64</td>\n",
       "      <td>int64</td>\n",
       "      <td>int64</td>\n",
       "      <td>object</td>\n",
       "      <td>geometry</td>\n",
       "    </tr>\n",
       "    <tr>\n",
       "      <th>7731</th>\n",
       "      <td>...</td>\n",
       "      <td>...</td>\n",
       "      <td>...</td>\n",
       "      <td>...</td>\n",
       "      <td>...</td>\n",
       "      <td>...</td>\n",
       "      <td>...</td>\n",
       "      <td>...</td>\n",
       "      <td>...</td>\n",
       "      <td>...</td>\n",
       "      <td>...</td>\n",
       "      <td>...</td>\n",
       "      <td>...</td>\n",
       "      <td>...</td>\n",
       "      <td>...</td>\n",
       "      <td>...</td>\n",
       "      <td>...</td>\n",
       "      <td>...</td>\n",
       "      <td>...</td>\n",
       "      <td>...</td>\n",
       "      <td>...</td>\n",
       "      <td>...</td>\n",
       "      <td>...</td>\n",
       "    </tr>\n",
       "    <tr>\n",
       "      <th>15462</th>\n",
       "      <td>...</td>\n",
       "      <td>...</td>\n",
       "      <td>...</td>\n",
       "      <td>...</td>\n",
       "      <td>...</td>\n",
       "      <td>...</td>\n",
       "      <td>...</td>\n",
       "      <td>...</td>\n",
       "      <td>...</td>\n",
       "      <td>...</td>\n",
       "      <td>...</td>\n",
       "      <td>...</td>\n",
       "      <td>...</td>\n",
       "      <td>...</td>\n",
       "      <td>...</td>\n",
       "      <td>...</td>\n",
       "      <td>...</td>\n",
       "      <td>...</td>\n",
       "      <td>...</td>\n",
       "      <td>...</td>\n",
       "      <td>...</td>\n",
       "      <td>...</td>\n",
       "      <td>...</td>\n",
       "    </tr>\n",
       "    <tr>\n",
       "      <th>23193</th>\n",
       "      <td>...</td>\n",
       "      <td>...</td>\n",
       "      <td>...</td>\n",
       "      <td>...</td>\n",
       "      <td>...</td>\n",
       "      <td>...</td>\n",
       "      <td>...</td>\n",
       "      <td>...</td>\n",
       "      <td>...</td>\n",
       "      <td>...</td>\n",
       "      <td>...</td>\n",
       "      <td>...</td>\n",
       "      <td>...</td>\n",
       "      <td>...</td>\n",
       "      <td>...</td>\n",
       "      <td>...</td>\n",
       "      <td>...</td>\n",
       "      <td>...</td>\n",
       "      <td>...</td>\n",
       "      <td>...</td>\n",
       "      <td>...</td>\n",
       "      <td>...</td>\n",
       "      <td>...</td>\n",
       "    </tr>\n",
       "    <tr>\n",
       "      <th>30923</th>\n",
       "      <td>...</td>\n",
       "      <td>...</td>\n",
       "      <td>...</td>\n",
       "      <td>...</td>\n",
       "      <td>...</td>\n",
       "      <td>...</td>\n",
       "      <td>...</td>\n",
       "      <td>...</td>\n",
       "      <td>...</td>\n",
       "      <td>...</td>\n",
       "      <td>...</td>\n",
       "      <td>...</td>\n",
       "      <td>...</td>\n",
       "      <td>...</td>\n",
       "      <td>...</td>\n",
       "      <td>...</td>\n",
       "      <td>...</td>\n",
       "      <td>...</td>\n",
       "      <td>...</td>\n",
       "      <td>...</td>\n",
       "      <td>...</td>\n",
       "      <td>...</td>\n",
       "      <td>...</td>\n",
       "    </tr>\n",
       "  </tbody>\n",
       "</table>\n",
       "<div>Dask Name: read_file, 1 expression</div>"
      ],
      "text/plain": [
       "Dask GeoDataFrame Structure:\n",
       "              Event_ID irwinID Incid_Name Incid_Type Map_ID Map_Prog Asmnt_Type BurnBndAc BurnBndLat BurnBndLon         Ig_Date  Pre_ID Post_ID Perim_ID dNBR_offst dNBR_stdDv NoData_T IncGreen_T  Low_T  Mod_T High_T Comment  geometry\n",
       "npartitions=4                                                                                                                                                                                                                            \n",
       "0               object  object     object     object  int64   object     object     int64     object     object  datetime64[ms]  object  object   object      int64      int64    int64      int64  int64  int64  int64  object  geometry\n",
       "7731               ...     ...        ...        ...    ...      ...        ...       ...        ...        ...             ...     ...     ...      ...        ...        ...      ...        ...    ...    ...    ...     ...       ...\n",
       "15462              ...     ...        ...        ...    ...      ...        ...       ...        ...        ...             ...     ...     ...      ...        ...        ...      ...        ...    ...    ...    ...     ...       ...\n",
       "23193              ...     ...        ...        ...    ...      ...        ...       ...        ...        ...             ...     ...     ...      ...        ...        ...      ...        ...    ...    ...    ...     ...       ...\n",
       "30923              ...     ...        ...        ...    ...      ...        ...       ...        ...        ...             ...     ...     ...      ...        ...        ...      ...        ...    ...    ...    ...     ...       ...\n",
       "Dask Name: read_file, 1 expression\n",
       "Expr=FromGraph(f893b38)"
      ]
     },
     "execution_count": 9,
     "metadata": {},
     "output_type": "execute_result"
    }
   ],
   "source": [
    "mtbs_shp_ddf"
   ]
  },
  {
   "cell_type": "markdown",
   "metadata": {},
   "source": [
    "### Create a wildfire severity map using the MTBS shapefile data."
   ]
  },
  {
   "cell_type": "code",
   "execution_count": 10,
   "metadata": {},
   "outputs": [
    {
     "data": {
      "application/vnd.jupyter.widget-view+json": {
       "model_id": "54f78cd1e0c2449f8ee3ef367fe1d510",
       "version_major": 2,
       "version_minor": 0
      },
      "text/plain": [
       "Map(center=[39.8283, -98.5795], controls=(ZoomControl(options=['position', 'zoom_in_text', 'zoom_in_title', 'z…"
      ]
     },
     "execution_count": 10,
     "metadata": {},
     "output_type": "execute_result"
    }
   ],
   "source": [
    "map_object = create_wildfire_severity_map(mtbs_shp_ddf)\n",
    "map_object"
   ]
  },
  {
   "cell_type": "markdown",
   "metadata": {},
   "source": [
    "### This section filters wildfire incidents, groups them by state, counts the occurrences, and visualizes the results as a bar chart showing the number of wildfires by state."
   ]
  },
  {
   "cell_type": "code",
   "execution_count": 11,
   "metadata": {},
   "outputs": [
    {
     "data": {
      "image/png": "[encoded data removed]",
      "text/plain": [
       "<Figure size 1500x800 with 1 Axes>"
      ]
     },
     "metadata": {},
     "output_type": "display_data"
    }
   ],
   "source": [
    "# Filter the data for Wildfire incidents\n",
    "wildfire_ddf = mtbs_shp_ddf[mtbs_shp_ddf['Incid_Type'] == 'Wildfire']\n",
    "\n",
    "# Extract state abbreviation from the 'Event_ID' (first two characters)\n",
    "wildfire_ddf['State'] = wildfire_ddf['Event_ID'].str[:2]\n",
    "\n",
    "# Group by 'State' and count the number of wildfires\n",
    "wildfires_by_state = wildfire_ddf.groupby('State').size().compute()\n",
    "\n",
    "# Convert to a DataFrame for better display\n",
    "wildfires_by_state_df = wildfires_by_state.reset_index()\n",
    "wildfires_by_state_df.columns = ['State', 'Wildfire Count']\n",
    "\n",
    "# Sort the DataFrame by Wildfire Count in descending order\n",
    "wildfires_by_state_df = wildfires_by_state_df.sort_values(by='Wildfire Count', ascending=False)\n",
    "\n",
    "# Plot the data as a bar chart\n",
    "plt.figure(figsize=(15, 8))\n",
    "plt.bar(wildfires_by_state_df['State'], wildfires_by_state_df['Wildfire Count'], color='orange')\n",
    "\n",
    "# Add titles and labels\n",
    "plt.title('Number of Wildfires by State', fontsize=16)\n",
    "plt.xlabel('State', fontsize=14)\n",
    "plt.ylabel('Wildfire Count', fontsize=14)\n",
    "\n",
    "# Add value labels on top of the bars\n",
    "for index, value in enumerate(wildfires_by_state_df['Wildfire Count']):\n",
    "    plt.text(index, value + 5, str(value), ha='center', va='bottom', fontsize=10)\n",
    "\n",
    "# Show the plot\n",
    "plt.xticks(fontsize=12)\n",
    "plt.yticks(fontsize=12)\n",
    "plt.grid(axis='y', linestyle='--', alpha=0.7)\n",
    "plt.show()"
   ]
  }
 ],
 "metadata": {
  "kernelspec": {
   "display_name": "envburn",
   "language": "python",
   "name": "python3"
  },
  "language_info": {
   "codemirror_mode": {
    "name": "ipython",
    "version": 3
   },
   "file_extension": ".py",
   "mimetype": "text/x-python",
   "name": "python",
   "nbconvert_exporter": "python",
   "pygments_lexer": "ipython3",
   "version": "3.12.8"
  }
 },
 "nbformat": 4,
 "nbformat_minor": 2
}
