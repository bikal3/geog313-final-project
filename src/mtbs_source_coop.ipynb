{
 "cells": [
  {
   "cell_type": "markdown",
   "metadata": {},
   "source": [
    "## Retrieve MTBS by state from Source coop to test Dask and Docker\n",
    "For more information: https://source.coop/repositories/cboettig/fire/description"
   ]
  },
  {
   "cell_type": "code",
   "execution_count": 7,
   "metadata": {},
   "outputs": [],
   "source": [
    "# Import necessary functions \n",
    "from utils.source_coop_utils import initialize_dask_cluster,get_usgs_data,get_mtbs_shp,create_wildfire_severity_map\n",
    "import matplotlib.pyplot as plt\n",
    "import os\n",
    "import boto3\n",
    "from dotenv import load_dotenv"
   ]
  },
  {
   "cell_type": "markdown",
   "metadata": {},
   "source": [
    "### Initialize a Dask cluster for distributed computing\n",
    "\n",
    "This helps in handling large datasets and parallel computation efficiently."
   ]
  },
  {
   "cell_type": "code",
   "execution_count": null,
   "metadata": {},
   "outputs": [],
   "source": [
    "# Example usage\n",
    "client = initialize_dask_cluster()"
   ]
  },
  {
   "cell_type": "markdown",
   "metadata": {},
   "source": [
    "### Retrieve the AWS Access Key ID and AWS Secret Access Key from the environment variables."
   ]
  },
  {
   "cell_type": "markdown",
   "metadata": {},
   "source": [
    "AWS_ACCESS_KEY_ID = \"Your AWS_ACCESS_KEY_ID Here \"\n",
    "\n",
    "AWS_SECRET_ACCESS_KEY = \"Your AWS_ACCESS_KEY_ID Here\")"
   ]
  },
  {
   "cell_type": "code",
   "execution_count": 2,
   "metadata": {},
   "outputs": [],
   "source": [
    "AWS_ACCESS_KEY_ID = os.getenv(\"AWS_ACCESS_KEY_ID\")#  replace AWS_ACCESS_KEY_ID with your access key \n",
    "AWS_SECRET_ACCESS_KEY = os.getenv(\"AWS_SECRET_ACCESS_KEY\")#  replace AWS_SECRET_ACCESS_KEY with your access key "
   ]
  },
  {
   "cell_type": "code",
   "execution_count": null,
   "metadata": {},
   "outputs": [],
   "source": [
    "# Checking AWS Key \n",
    "AWS_ACCESS_KEY_ID"
   ]
  },
  {
   "cell_type": "markdown",
   "metadata": {},
   "source": [
    "### Create an S3 client using the boto3 library with custom authentication and endpoint settings."
   ]
  },
  {
   "cell_type": "code",
   "execution_count": 3,
   "metadata": {},
   "outputs": [],
   "source": [
    "s3_client = boto3.client(\n",
    "    's3',                             # Specify the AWS service: 's3' (Simple Storage Service).\n",
    "    aws_access_key_id=AWS_ACCESS_KEY_ID,       # Provide the AWS Access Key ID for authentication.\n",
    "    aws_secret_access_key=AWS_SECRET_ACCESS_KEY, # Provide the AWS Secret Access Key for authentication.\n",
    "    endpoint_url='https://data.source.coop'    # Specify a custom S3-compatible endpoint URL (non-AWS S3 service).\n",
    ")"
   ]
  },
  {
   "cell_type": "markdown",
   "metadata": {},
   "source": [
    "### You can skip making new directory if you directory already exists"
   ]
  },
  {
   "cell_type": "code",
   "execution_count": 12,
   "metadata": {},
   "outputs": [],
   "source": [
    "# creating a new directory\n",
    "os.makedirs('./datas', exist_ok=True)"
   ]
  },
  {
   "cell_type": "markdown",
   "metadata": {},
   "source": [
    "\n",
    "### Define a local path where data will be stored or accessed."
   ]
  },
  {
   "cell_type": "code",
   "execution_count": 4,
   "metadata": {},
   "outputs": [],
   "source": [
    "local_path = \"./data\""
   ]
  },
  {
   "cell_type": "code",
   "execution_count": null,
   "metadata": {},
   "outputs": [],
   "source": [
    "# Define the name of the file to be fetched,\n",
    "file_name= \"usgs-mtbs\"\n",
    "# Fetch USGS data using the `get_usgs_data` function.\n",
    "usgs_ddf = get_usgs_data(file_name, s3_client,local_path)"
   ]
  },
  {
   "cell_type": "code",
   "execution_count": null,
   "metadata": {},
   "outputs": [],
   "source": [
    "# Define the name of the file to be fetched,\n",
    "file_name=\"mtbs_perims_DD\"\n",
    "# Fetch MTBS (Monitoring Trends in Burn Severity) shapefile data using the `get_mtbs_shp` function.\n",
    "mtbs_shp_ddf=get_mtbs_shp(file_name, s3_client,local_path)"
   ]
  },
  {
   "cell_type": "code",
   "execution_count": null,
   "metadata": {},
   "outputs": [],
   "source": [
    "mtbs_shp_ddf"
   ]
  },
  {
   "cell_type": "markdown",
   "metadata": {},
   "source": [
    "### Create a wildfire severity map using the MTBS shapefile data."
   ]
  },
  {
   "cell_type": "code",
   "execution_count": null,
   "metadata": {},
   "outputs": [],
   "source": [
    "map_object = create_wildfire_severity_map(mtbs_shp_ddf)\n",
    "map_object"
   ]
  },
  {
   "cell_type": "markdown",
   "metadata": {},
   "source": [
    "### This section filters wildfire incidents, groups them by state, counts the occurrences, and visualizes the results as a bar chart showing the number of wildfires by state."
   ]
  },
  {
   "cell_type": "code",
   "execution_count": null,
   "metadata": {},
   "outputs": [],
   "source": [
    "# Filter the data for Wildfire incidents\n",
    "wildfire_ddf = mtbs_shp_ddf[mtbs_shp_ddf['Incid_Type'] == 'Wildfire']\n",
    "\n",
    "# Extract state abbreviation from the 'Event_ID' (first two characters)\n",
    "wildfire_ddf['State'] = wildfire_ddf['Event_ID'].str[:2]\n",
    "\n",
    "# Group by 'State' and count the number of wildfires\n",
    "wildfires_by_state = wildfire_ddf.groupby('State').size().compute()\n",
    "\n",
    "# Convert to a DataFrame for better display\n",
    "wildfires_by_state_df = wildfires_by_state.reset_index()\n",
    "wildfires_by_state_df.columns = ['State', 'Wildfire Count']\n",
    "\n",
    "# Sort the DataFrame by Wildfire Count in descending order\n",
    "wildfires_by_state_df = wildfires_by_state_df.sort_values(by='Wildfire Count', ascending=False)\n",
    "\n",
    "# Plot the data as a bar chart\n",
    "plt.figure(figsize=(15, 8))\n",
    "plt.bar(wildfires_by_state_df['State'], wildfires_by_state_df['Wildfire Count'], color='orange')\n",
    "\n",
    "# Add titles and labels\n",
    "plt.title('Number of Wildfires by State', fontsize=16)\n",
    "plt.xlabel('State', fontsize=14)\n",
    "plt.ylabel('Wildfire Count', fontsize=14)\n",
    "\n",
    "# Add value labels on top of the bars\n",
    "for index, value in enumerate(wildfires_by_state_df['Wildfire Count']):\n",
    "    plt.text(index, value + 5, str(value), ha='center', va='bottom', fontsize=10)\n",
    "\n",
    "# Show the plot\n",
    "plt.xticks(fontsize=12)\n",
    "plt.yticks(fontsize=12)\n",
    "plt.grid(axis='y', linestyle='--', alpha=0.7)\n",
    "plt.show()"
   ]
  }
 ],
 "metadata": {
  "kernelspec": {
   "display_name": "envburn",
   "language": "python",
   "name": "python3"
  },
  "language_info": {
   "codemirror_mode": {
    "name": "ipython",
    "version": 3
   },
   "file_extension": ".py",
   "mimetype": "text/x-python",
   "name": "python",
   "nbconvert_exporter": "python",
   "pygments_lexer": "ipython3",
   "version": "3.12.8"
  }
 },
 "nbformat": 4,
 "nbformat_minor": 2
}
